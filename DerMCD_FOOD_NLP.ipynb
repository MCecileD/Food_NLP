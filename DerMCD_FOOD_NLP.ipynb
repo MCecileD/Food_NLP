{
  "cells": [
    {
      "cell_type": "markdown",
      "metadata": {
        "id": "view-in-github",
        "colab_type": "text"
      },
      "source": [
        "<a href=\"https://colab.research.google.com/github/MCecileD/Food_NLP/blob/main/DerMCD_FOOD_NLP.ipynb\" target=\"_parent\"><img src=\"https://colab.research.google.com/assets/colab-badge.svg\" alt=\"Open In Colab\"/></a>"
      ]
    },
    {
      "cell_type": "code",
      "execution_count": null,
      "metadata": {
        "colab": {
          "base_uri": "https://localhost:8080/"
        },
        "id": "n9JB6NOlWj-E",
        "outputId": "c4a46abc-8208-4e30-ab23-164d91275b93"
      },
      "outputs": [
        {
          "output_type": "stream",
          "name": "stdout",
          "text": [
            "Drive already mounted at /content/drive; to attempt to forcibly remount, call drive.mount(\"/content/drive\", force_remount=True).\n"
          ]
        }
      ],
      "source": [
        "import pandas as pd\n",
        "from google.colab import drive\n",
        "drive.mount('/content/drive')"
      ]
    },
    {
      "cell_type": "code",
      "execution_count": null,
      "metadata": {
        "colab": {
          "base_uri": "https://localhost:8080/"
        },
        "id": "6xSjqHU2WqKJ",
        "outputId": "c73736fd-935c-4f38-8eee-8aae4a8b3511"
      },
      "outputs": [
        {
          "output_type": "stream",
          "name": "stdout",
          "text": [
            " Food.csv  'Food Images'\n"
          ]
        }
      ],
      "source": [
        "!ls drive/MyDrive/week8/dataset/Data_Set_Projet_2/"
      ]
    },
    {
      "cell_type": "code",
      "execution_count": null,
      "metadata": {
        "id": "DMxZo1JoWFVR"
      },
      "outputs": [],
      "source": [
        "repertoire_pam = 'drive/MyDrive/Nao_School/week8/dataset/Data_Set_Projet_2/'"
      ]
    },
    {
      "cell_type": "code",
      "execution_count": null,
      "metadata": {
        "id": "TDPl0shRWJuo"
      },
      "outputs": [],
      "source": [
        "repertoire_aure = ''"
      ]
    },
    {
      "cell_type": "code",
      "execution_count": null,
      "metadata": {
        "id": "pYrM2hpqWJ_v"
      },
      "outputs": [],
      "source": [
        "repertoire_mc = 'drive/MyDrive/week8/dataset/Data_Set_Projet_2/'"
      ]
    },
    {
      "cell_type": "code",
      "execution_count": null,
      "metadata": {
        "colab": {
          "base_uri": "https://localhost:8080/",
          "height": 718
        },
        "id": "n5mNgq1SBvgd",
        "outputId": "a8dcf006-2aa7-4789-fb57-67eaf9f6e614"
      },
      "outputs": [
        {
          "data": {
            "text/html": [
              "\n",
              "  <div id=\"df-e5e7417b-8ae9-4873-b60c-7ead0d6d6ef9\">\n",
              "    <div class=\"colab-df-container\">\n",
              "      <div>\n",
              "<style scoped>\n",
              "    .dataframe tbody tr th:only-of-type {\n",
              "        vertical-align: middle;\n",
              "    }\n",
              "\n",
              "    .dataframe tbody tr th {\n",
              "        vertical-align: top;\n",
              "    }\n",
              "\n",
              "    .dataframe thead th {\n",
              "        text-align: right;\n",
              "    }\n",
              "</style>\n",
              "<table border=\"1\" class=\"dataframe\">\n",
              "  <thead>\n",
              "    <tr style=\"text-align: right;\">\n",
              "      <th></th>\n",
              "      <th>Unnamed: 0</th>\n",
              "      <th>Title</th>\n",
              "      <th>Ingredients</th>\n",
              "      <th>Instructions</th>\n",
              "      <th>Image_Name</th>\n",
              "      <th>Cleaned_Ingredients</th>\n",
              "    </tr>\n",
              "  </thead>\n",
              "  <tbody>\n",
              "    <tr>\n",
              "      <th>0</th>\n",
              "      <td>0</td>\n",
              "      <td>Miso-Butter Roast Chicken With Acorn Squash Pa...</td>\n",
              "      <td>['1 (3½–4-lb.) whole chicken', '2¾ tsp. kosher...</td>\n",
              "      <td>Pat chicken dry with paper towels, season all ...</td>\n",
              "      <td>miso-butter-roast-chicken-acorn-squash-panzanella</td>\n",
              "      <td>['1 (3½–4-lb.) whole chicken', '2¾ tsp. kosher...</td>\n",
              "    </tr>\n",
              "    <tr>\n",
              "      <th>1</th>\n",
              "      <td>1</td>\n",
              "      <td>Crispy Salt and Pepper Potatoes</td>\n",
              "      <td>['2 large egg whites', '1 pound new potatoes (...</td>\n",
              "      <td>Preheat oven to 400°F and line a rimmed baking...</td>\n",
              "      <td>crispy-salt-and-pepper-potatoes-dan-kluger</td>\n",
              "      <td>['2 large egg whites', '1 pound new potatoes (...</td>\n",
              "    </tr>\n",
              "    <tr>\n",
              "      <th>2</th>\n",
              "      <td>2</td>\n",
              "      <td>Thanksgiving Mac and Cheese</td>\n",
              "      <td>['1 cup evaporated milk', '1 cup whole milk', ...</td>\n",
              "      <td>Place a rack in middle of oven; preheat to 400...</td>\n",
              "      <td>thanksgiving-mac-and-cheese-erick-williams</td>\n",
              "      <td>['1 cup evaporated milk', '1 cup whole milk', ...</td>\n",
              "    </tr>\n",
              "    <tr>\n",
              "      <th>3</th>\n",
              "      <td>3</td>\n",
              "      <td>Italian Sausage and Bread Stuffing</td>\n",
              "      <td>['1 (¾- to 1-pound) round Italian loaf, cut in...</td>\n",
              "      <td>Preheat oven to 350°F with rack in middle. Gen...</td>\n",
              "      <td>italian-sausage-and-bread-stuffing-240559</td>\n",
              "      <td>['1 (¾- to 1-pound) round Italian loaf, cut in...</td>\n",
              "    </tr>\n",
              "    <tr>\n",
              "      <th>4</th>\n",
              "      <td>4</td>\n",
              "      <td>Newton's Law</td>\n",
              "      <td>['1 teaspoon dark brown sugar', '1 teaspoon ho...</td>\n",
              "      <td>Stir together brown sugar and hot water in a c...</td>\n",
              "      <td>newtons-law-apple-bourbon-cocktail</td>\n",
              "      <td>['1 teaspoon dark brown sugar', '1 teaspoon ho...</td>\n",
              "    </tr>\n",
              "    <tr>\n",
              "      <th>...</th>\n",
              "      <td>...</td>\n",
              "      <td>...</td>\n",
              "      <td>...</td>\n",
              "      <td>...</td>\n",
              "      <td>...</td>\n",
              "      <td>...</td>\n",
              "    </tr>\n",
              "    <tr>\n",
              "      <th>13496</th>\n",
              "      <td>13496</td>\n",
              "      <td>Brownie Pudding Cake</td>\n",
              "      <td>['1 cup all-purpose flour', '2/3 cup unsweeten...</td>\n",
              "      <td>Preheat the oven to 350°F. Into a bowl sift to...</td>\n",
              "      <td>brownie-pudding-cake-14408</td>\n",
              "      <td>['1 cup all-purpose flour', '2/3 cup unsweeten...</td>\n",
              "    </tr>\n",
              "    <tr>\n",
              "      <th>13497</th>\n",
              "      <td>13497</td>\n",
              "      <td>Israeli Couscous with Roasted Butternut Squash...</td>\n",
              "      <td>['1 preserved lemon', '1 1/2 pound butternut s...</td>\n",
              "      <td>Preheat oven to 475°F.\\nHalve lemons and scoop...</td>\n",
              "      <td>israeli-couscous-with-roasted-butternut-squash...</td>\n",
              "      <td>['1 preserved lemon', '1 1/2 pound butternut s...</td>\n",
              "    </tr>\n",
              "    <tr>\n",
              "      <th>13498</th>\n",
              "      <td>13498</td>\n",
              "      <td>Rice with Soy-Glazed Bonito Flakes and Sesame ...</td>\n",
              "      <td>['Leftover katsuo bushi (dried bonito flakes) ...</td>\n",
              "      <td>If using katsuo bushi flakes from package, moi...</td>\n",
              "      <td>rice-with-soy-glazed-bonito-flakes-and-sesame-...</td>\n",
              "      <td>['Leftover katsuo bushi (dried bonito flakes) ...</td>\n",
              "    </tr>\n",
              "    <tr>\n",
              "      <th>13499</th>\n",
              "      <td>13499</td>\n",
              "      <td>Spanakopita</td>\n",
              "      <td>['1 stick (1/2 cup) plus 1 tablespoon unsalted...</td>\n",
              "      <td>Melt 1 tablespoon butter in a 12-inch heavy sk...</td>\n",
              "      <td>spanakopita-107344</td>\n",
              "      <td>['1 stick (1/2 cup) plus 1 tablespoon unsalted...</td>\n",
              "    </tr>\n",
              "    <tr>\n",
              "      <th>13500</th>\n",
              "      <td>13500</td>\n",
              "      <td>Mexican Poblano, Spinach, and Black Bean \"Lasa...</td>\n",
              "      <td>['12 medium to large fresh poblano chiles (2 1...</td>\n",
              "      <td>Lay 4 chiles on their sides on racks of gas bu...</td>\n",
              "      <td>mexican-poblano-spinach-and-black-bean-lasagne...</td>\n",
              "      <td>['12 medium to large fresh poblano chiles (2 1...</td>\n",
              "    </tr>\n",
              "  </tbody>\n",
              "</table>\n",
              "<p>13501 rows × 6 columns</p>\n",
              "</div>\n",
              "      <button class=\"colab-df-convert\" onclick=\"convertToInteractive('df-e5e7417b-8ae9-4873-b60c-7ead0d6d6ef9')\"\n",
              "              title=\"Convert this dataframe to an interactive table.\"\n",
              "              style=\"display:none;\">\n",
              "        \n",
              "  <svg xmlns=\"http://www.w3.org/2000/svg\" height=\"24px\"viewBox=\"0 0 24 24\"\n",
              "       width=\"24px\">\n",
              "    <path d=\"M0 0h24v24H0V0z\" fill=\"none\"/>\n",
              "    <path d=\"M18.56 5.44l.94 2.06.94-2.06 2.06-.94-2.06-.94-.94-2.06-.94 2.06-2.06.94zm-11 1L8.5 8.5l.94-2.06 2.06-.94-2.06-.94L8.5 2.5l-.94 2.06-2.06.94zm10 10l.94 2.06.94-2.06 2.06-.94-2.06-.94-.94-2.06-.94 2.06-2.06.94z\"/><path d=\"M17.41 7.96l-1.37-1.37c-.4-.4-.92-.59-1.43-.59-.52 0-1.04.2-1.43.59L10.3 9.45l-7.72 7.72c-.78.78-.78 2.05 0 2.83L4 21.41c.39.39.9.59 1.41.59.51 0 1.02-.2 1.41-.59l7.78-7.78 2.81-2.81c.8-.78.8-2.07 0-2.86zM5.41 20L4 18.59l7.72-7.72 1.47 1.35L5.41 20z\"/>\n",
              "  </svg>\n",
              "      </button>\n",
              "      \n",
              "  <style>\n",
              "    .colab-df-container {\n",
              "      display:flex;\n",
              "      flex-wrap:wrap;\n",
              "      gap: 12px;\n",
              "    }\n",
              "\n",
              "    .colab-df-convert {\n",
              "      background-color: #E8F0FE;\n",
              "      border: none;\n",
              "      border-radius: 50%;\n",
              "      cursor: pointer;\n",
              "      display: none;\n",
              "      fill: #1967D2;\n",
              "      height: 32px;\n",
              "      padding: 0 0 0 0;\n",
              "      width: 32px;\n",
              "    }\n",
              "\n",
              "    .colab-df-convert:hover {\n",
              "      background-color: #E2EBFA;\n",
              "      box-shadow: 0px 1px 2px rgba(60, 64, 67, 0.3), 0px 1px 3px 1px rgba(60, 64, 67, 0.15);\n",
              "      fill: #174EA6;\n",
              "    }\n",
              "\n",
              "    [theme=dark] .colab-df-convert {\n",
              "      background-color: #3B4455;\n",
              "      fill: #D2E3FC;\n",
              "    }\n",
              "\n",
              "    [theme=dark] .colab-df-convert:hover {\n",
              "      background-color: #434B5C;\n",
              "      box-shadow: 0px 1px 3px 1px rgba(0, 0, 0, 0.15);\n",
              "      filter: drop-shadow(0px 1px 2px rgba(0, 0, 0, 0.3));\n",
              "      fill: #FFFFFF;\n",
              "    }\n",
              "  </style>\n",
              "\n",
              "      <script>\n",
              "        const buttonEl =\n",
              "          document.querySelector('#df-e5e7417b-8ae9-4873-b60c-7ead0d6d6ef9 button.colab-df-convert');\n",
              "        buttonEl.style.display =\n",
              "          google.colab.kernel.accessAllowed ? 'block' : 'none';\n",
              "\n",
              "        async function convertToInteractive(key) {\n",
              "          const element = document.querySelector('#df-e5e7417b-8ae9-4873-b60c-7ead0d6d6ef9');\n",
              "          const dataTable =\n",
              "            await google.colab.kernel.invokeFunction('convertToInteractive',\n",
              "                                                     [key], {});\n",
              "          if (!dataTable) return;\n",
              "\n",
              "          const docLinkHtml = 'Like what you see? Visit the ' +\n",
              "            '<a target=\"_blank\" href=https://colab.research.google.com/notebooks/data_table.ipynb>data table notebook</a>'\n",
              "            + ' to learn more about interactive tables.';\n",
              "          element.innerHTML = '';\n",
              "          dataTable['output_type'] = 'display_data';\n",
              "          await google.colab.output.renderOutput(dataTable, element);\n",
              "          const docLink = document.createElement('div');\n",
              "          docLink.innerHTML = docLinkHtml;\n",
              "          element.appendChild(docLink);\n",
              "        }\n",
              "      </script>\n",
              "    </div>\n",
              "  </div>\n",
              "  "
            ],
            "text/plain": [
              "       Unnamed: 0                                              Title  \\\n",
              "0               0  Miso-Butter Roast Chicken With Acorn Squash Pa...   \n",
              "1               1                    Crispy Salt and Pepper Potatoes   \n",
              "2               2                        Thanksgiving Mac and Cheese   \n",
              "3               3                 Italian Sausage and Bread Stuffing   \n",
              "4               4                                       Newton's Law   \n",
              "...           ...                                                ...   \n",
              "13496       13496                               Brownie Pudding Cake   \n",
              "13497       13497  Israeli Couscous with Roasted Butternut Squash...   \n",
              "13498       13498  Rice with Soy-Glazed Bonito Flakes and Sesame ...   \n",
              "13499       13499                                        Spanakopita   \n",
              "13500       13500  Mexican Poblano, Spinach, and Black Bean \"Lasa...   \n",
              "\n",
              "                                             Ingredients  \\\n",
              "0      ['1 (3½–4-lb.) whole chicken', '2¾ tsp. kosher...   \n",
              "1      ['2 large egg whites', '1 pound new potatoes (...   \n",
              "2      ['1 cup evaporated milk', '1 cup whole milk', ...   \n",
              "3      ['1 (¾- to 1-pound) round Italian loaf, cut in...   \n",
              "4      ['1 teaspoon dark brown sugar', '1 teaspoon ho...   \n",
              "...                                                  ...   \n",
              "13496  ['1 cup all-purpose flour', '2/3 cup unsweeten...   \n",
              "13497  ['1 preserved lemon', '1 1/2 pound butternut s...   \n",
              "13498  ['Leftover katsuo bushi (dried bonito flakes) ...   \n",
              "13499  ['1 stick (1/2 cup) plus 1 tablespoon unsalted...   \n",
              "13500  ['12 medium to large fresh poblano chiles (2 1...   \n",
              "\n",
              "                                            Instructions  \\\n",
              "0      Pat chicken dry with paper towels, season all ...   \n",
              "1      Preheat oven to 400°F and line a rimmed baking...   \n",
              "2      Place a rack in middle of oven; preheat to 400...   \n",
              "3      Preheat oven to 350°F with rack in middle. Gen...   \n",
              "4      Stir together brown sugar and hot water in a c...   \n",
              "...                                                  ...   \n",
              "13496  Preheat the oven to 350°F. Into a bowl sift to...   \n",
              "13497  Preheat oven to 475°F.\\nHalve lemons and scoop...   \n",
              "13498  If using katsuo bushi flakes from package, moi...   \n",
              "13499  Melt 1 tablespoon butter in a 12-inch heavy sk...   \n",
              "13500  Lay 4 chiles on their sides on racks of gas bu...   \n",
              "\n",
              "                                              Image_Name  \\\n",
              "0      miso-butter-roast-chicken-acorn-squash-panzanella   \n",
              "1             crispy-salt-and-pepper-potatoes-dan-kluger   \n",
              "2             thanksgiving-mac-and-cheese-erick-williams   \n",
              "3              italian-sausage-and-bread-stuffing-240559   \n",
              "4                     newtons-law-apple-bourbon-cocktail   \n",
              "...                                                  ...   \n",
              "13496                         brownie-pudding-cake-14408   \n",
              "13497  israeli-couscous-with-roasted-butternut-squash...   \n",
              "13498  rice-with-soy-glazed-bonito-flakes-and-sesame-...   \n",
              "13499                                 spanakopita-107344   \n",
              "13500  mexican-poblano-spinach-and-black-bean-lasagne...   \n",
              "\n",
              "                                     Cleaned_Ingredients  \n",
              "0      ['1 (3½–4-lb.) whole chicken', '2¾ tsp. kosher...  \n",
              "1      ['2 large egg whites', '1 pound new potatoes (...  \n",
              "2      ['1 cup evaporated milk', '1 cup whole milk', ...  \n",
              "3      ['1 (¾- to 1-pound) round Italian loaf, cut in...  \n",
              "4      ['1 teaspoon dark brown sugar', '1 teaspoon ho...  \n",
              "...                                                  ...  \n",
              "13496  ['1 cup all-purpose flour', '2/3 cup unsweeten...  \n",
              "13497  ['1 preserved lemon', '1 1/2 pound butternut s...  \n",
              "13498  ['Leftover katsuo bushi (dried bonito flakes) ...  \n",
              "13499  ['1 stick (1/2 cup) plus 1 tablespoon unsalted...  \n",
              "13500  ['12 medium to large fresh poblano chiles (2 1...  \n",
              "\n",
              "[13501 rows x 6 columns]"
            ]
          },
          "execution_count": 12,
          "metadata": {},
          "output_type": "execute_result"
        }
      ],
      "source": [
        "df = pd.read_csv(repertoire_mc + '/Food.csv', delimiter=\",\")\n",
        "\n",
        "df"
      ]
    },
    {
      "cell_type": "code",
      "execution_count": null,
      "metadata": {
        "colab": {
          "base_uri": "https://localhost:8080/"
        },
        "id": "sbV7zkn8yUvr",
        "outputId": "b0c7f0f9-49d6-47d4-ae68-6877a96ca109"
      },
      "outputs": [
        {
          "output_type": "stream",
          "name": "stdout",
          "text": [
            "          Ingredients\n",
            "0             Chicken\n",
            "1              Turkey\n",
            "2                Eggs\n",
            "3         White beans\n",
            "4           Red beans\n",
            "5       Green lentils\n",
            "6         Red lentils\n",
            "7           Chickpeas\n",
            "8          Split peas\n",
            "9             Peanuts\n",
            "10    Alfalfa sprouts\n",
            "11         Split peas\n",
            "12            Avocado\n",
            "13             Banana\n",
            "14            Walnuts\n",
            "15          Flaxseeds\n",
            "16        Poppy seeds\n",
            "17             Shrimp\n",
            "18             Salmon\n",
            "19               Tuna\n",
            "20           Mackerel\n",
            "21            Almonds\n",
            "22       Strawberries\n",
            "23        Raspberries\n",
            "24        Blueberries\n",
            "25            Walnuts\n",
            "26     Dark chocolate\n",
            "27            Avocado\n",
            "28             Orange\n",
            "29         Grapefruit\n",
            "30              Kiwis\n",
            "31            Spinach\n",
            "32              Apple\n",
            "33               Pear\n",
            "34              Lemon\n",
            "35               Rice\n",
            "36         Brown rice\n",
            "37             Quinoa\n",
            "38            Oatmeal\n",
            "39              Bread\n",
            "40  Whole wheat bread\n",
            "41               Milk\n",
            "42       Plain yogurt\n",
            "43       Fruit yogurt\n",
            "44    Flavored yogurt\n",
            "45             Cheese\n",
            "46             Butter\n",
            "47      Salted butter\n",
            "48         Sour cream\n",
            "49     Cottage cheese\n",
            "50      Powdered milk\n"
          ]
        }
      ],
      "source": [
        "# Creer un df avec 4 labels\n",
        "\n",
        "import pandas as pd\n",
        "\n",
        "\n",
        "# Créer un dictionnaire de données\n",
        "data = {\n",
        "    'Ingredients': ['Chicken', 'Turkey', 'Eggs', 'White beans', 'Red beans', 'Green lentils', 'Red lentils', 'Chickpeas', 'Split peas', 'Peanuts', 'Alfalfa sprouts', 'Split peas', 'Avocado', 'Banana', 'Walnuts', 'Flaxseeds', 'Poppy seeds', 'Shrimp', 'Salmon', 'Tuna', 'Mackerel', 'Almonds', 'Strawberries', 'Raspberries', 'Blueberries', 'Walnuts', 'Dark chocolate', 'Avocado', 'Orange', 'Grapefruit', 'Kiwis', 'Spinach', 'Apple', 'Pear', 'Lemon', 'Rice', 'Brown rice', 'Quinoa', 'Oatmeal', 'Bread', 'Whole wheat bread', 'Milk', 'Plain yogurt', 'Fruit yogurt', 'Flavored yogurt', 'Cheese', 'Butter', 'Salted butter', 'Sour cream', 'Cottage cheese', 'Powdered milk'], \n",
        "    \n",
        "}\n",
        "\n",
        "# Créer un dataframe à partir du dictionnaire de données\n",
        "df = pd.DataFrame(data)\n",
        "\n",
        "# Afficher le dataframe\n",
        "print(df)\n",
        "\n",
        "\n",
        "\n",
        "\n"
      ]
    },
    {
      "cell_type": "code",
      "source": [
        "#Emotions/LaBels\n",
        "\n",
        "data1 =  {\n",
        "    'Emotions': ['Frustration', 'Angry', 'Threatened', 'Hurt', 'Optimistic', 'Calm', 'Proud','Happy', 'Anxiety', 'Humiliated', 'Apprehension', 'Rejected', 'Disappointment', 'Helpless', 'Lost', 'Depressed'],\n",
        "\n",
        "    'Label' :['Soothing', 'Soothing', 'Soothing', 'Soothing', 'Maintain', 'Maintain', 'Maintain', 'Maintain','Reassuring', 'Reassuring','Reassuring','Reassuring', 'Comforting', 'Comforting', 'Comforting','Comforting']\n",
        "    \n",
        "}\n",
        "\n",
        "# Créer un dataframe à partir du dictionnaire de données\n",
        "df = pd.DataFrame(data1)\n",
        "\n",
        "# Afficher le dataframe\n",
        "print(df)"
      ],
      "metadata": {
        "id": "ogXLGhTffzWX",
        "colab": {
          "base_uri": "https://localhost:8080/"
        },
        "outputId": "32abc6c5-582e-4d36-b1a9-6ed6313c57a1"
      },
      "execution_count": null,
      "outputs": [
        {
          "output_type": "stream",
          "name": "stdout",
          "text": [
            "          Emotions       Label\n",
            "0      Frustration    Soothing\n",
            "1            Angry    Soothing\n",
            "2       Threatened    Soothing\n",
            "3             Hurt    Soothing\n",
            "4       Optimistic    Maintain\n",
            "5             Calm    Maintain\n",
            "6            Proud    Maintain\n",
            "7            Happy    Maintain\n",
            "8          Anxiety  Reassuring\n",
            "9       Humiliated  Reassuring\n",
            "10    Apprehension  Reassuring\n",
            "11        Rejected  Reassuring\n",
            "12  Disappointment  Comforting\n",
            "13        Helpless  Comforting\n",
            "14            Lost  Comforting\n",
            "15       Depressed  Comforting\n"
          ]
        }
      ]
    },
    {
      "cell_type": "code",
      "source": [
        "from transformers import pipeline\n",
        "\n",
        "pipe = pipeline(model=\"facebook/bart-large-mnli\")\n",
        "pipe(\"I have a problem with my iphone that needs to be resolved asap!\",\n",
        "    candidate_labels=[\"urgent\", \"not urgent\", \"phone\", \"tablet\", \"computer\"],\n",
        ")\n",
        "# output\n",
        ">>> {'sequence': 'I have a problem with my iphone that needs to be resolved asap!!', 'labels': ['urgent', 'phone', 'computer', 'not urgent', 'tablet'], 'scores': [0.504, 0.479, 0.013, 0.003, 0.002]}\n"
      ],
      "metadata": {
        "colab": {
          "base_uri": "https://localhost:8080/",
          "height": 147
        },
        "id": "FjWx5_7Qtcae",
        "outputId": "c734e10b-2a53-4a88-8820-86e069f2cee6"
      },
      "execution_count": null,
      "outputs": [
        {
          "output_type": "error",
          "ename": "SyntaxError",
          "evalue": "ignored",
          "traceback": [
            "\u001b[0;36m  File \u001b[0;32m\"<ipython-input-1-e2fab240ad03>\"\u001b[0;36m, line \u001b[0;32m8\u001b[0m\n\u001b[0;31m    >>> {'sequence': 'I have a problem with my iphone that needs to be resolved asap!!', 'labels': ['urgent', 'phone', 'computer', 'not urgent', 'tablet'], 'scores': [0.504, 0.479, 0.013, 0.003, 0.002]}\u001b[0m\n\u001b[0m    ^\u001b[0m\n\u001b[0;31mSyntaxError\u001b[0m\u001b[0;31m:\u001b[0m invalid syntax\n"
          ]
        }
      ]
    }
  ],
  "metadata": {
    "colab": {
      "provenance": [],
      "include_colab_link": true
    },
    "kernelspec": {
      "display_name": "Python 3",
      "name": "python3"
    },
    "language_info": {
      "name": "python"
    }
  },
  "nbformat": 4,
  "nbformat_minor": 0
}