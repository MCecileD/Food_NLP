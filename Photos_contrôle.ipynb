{
  "nbformat": 4,
  "nbformat_minor": 0,
  "metadata": {
    "colab": {
      "provenance": [],
      "authorship_tag": "ABX9TyMlIgk0pPtoA1k7n4EV5IDa",
      "include_colab_link": true
    },
    "kernelspec": {
      "name": "python3",
      "display_name": "Python 3"
    },
    "language_info": {
      "name": "python"
    }
  },
  "cells": [
    {
      "cell_type": "markdown",
      "metadata": {
        "id": "view-in-github",
        "colab_type": "text"
      },
      "source": [
        "<a href=\"https://colab.research.google.com/github/MCecileD/Food_NLP/blob/main/Photos_contr%C3%B4le.ipynb\" target=\"_parent\"><img src=\"https://colab.research.google.com/assets/colab-badge.svg\" alt=\"Open In Colab\"/></a>"
      ]
    },
    {
      "cell_type": "markdown",
      "source": [
        "Import des bibliothèques nécessaires"
      ],
      "metadata": {
        "id": "naup9aa5b50M"
      }
    },
    {
      "cell_type": "code",
      "execution_count": 2,
      "metadata": {
        "colab": {
          "base_uri": "https://localhost:8080/"
        },
        "id": "vdDE62koVvdZ",
        "outputId": "401801c2-d1b8-4c05-c9ee-720f05de69a9"
      },
      "outputs": [
        {
          "output_type": "stream",
          "name": "stdout",
          "text": [
            "Mounted at /content/drive\n"
          ]
        }
      ],
      "source": [
        "import pandas as pd\n",
        "import os\n",
        "from google.colab import drive\n",
        "drive.mount('/content/drive')"
      ]
    },
    {
      "cell_type": "markdown",
      "source": [
        "Lister les fichiers/photos du répertoire"
      ],
      "metadata": {
        "id": "z2L_ZifIcDVj"
      }
    },
    {
      "cell_type": "code",
      "source": [
        "dir_photos = \"drive/MyDrive/Nao_School/week8/dataset/Data_Set_Projet_2/Food Images/Food Images\""
      ],
      "metadata": {
        "id": "hiXFs4mYcH8F"
      },
      "execution_count": 4,
      "outputs": []
    },
    {
      "cell_type": "code",
      "source": [
        "!ls 'drive/MyDrive/Nao_School/week8/dataset/Data_Set_Projet_2/Food Images/Food Images' -1 | wc -l\n"
      ],
      "metadata": {
        "colab": {
          "base_uri": "https://localhost:8080/"
        },
        "id": "klbOb7zbcPK-",
        "outputId": "38b6ac65-807b-41dd-98bd-b60fcc10af7d"
      },
      "execution_count": 5,
      "outputs": [
        {
          "output_type": "stream",
          "name": "stdout",
          "text": [
            "461\n"
          ]
        }
      ]
    },
    {
      "cell_type": "markdown",
      "source": [
        "Création d'une boucle pour vérifier le nom des fichiers présents dans le répertoire"
      ],
      "metadata": {
        "id": "OXIBNgXvcieQ"
      }
    },
    {
      "cell_type": "code",
      "source": [
        "list_photos =[]\n",
        "for file in os.listdir(f\"{dir_photos}\"):\n",
        "  list_photos.append(file)"
      ],
      "metadata": {
        "id": "amKbXcjrcwca"
      },
      "execution_count": 6,
      "outputs": []
    },
    {
      "cell_type": "code",
      "source": [
        "list_photos"
      ],
      "metadata": {
        "colab": {
          "base_uri": "https://localhost:8080/"
        },
        "id": "CBDAtJd0fAon",
        "outputId": "d258c3cd-35e2-4db9-befc-a6d3cd806028"
      },
      "execution_count": 16,
      "outputs": [
        {
          "output_type": "execute_result",
          "data": {
            "text/plain": [
              "['-em-ba-em-s-ultimate-lobster-rolls-51169080.jpg',\n",
              " 'almond-cake-366229.jpg',\n",
              " 'anchovy-and-rosemary-roasted-lamb-231791.jpg',\n",
              " 'all-green-salad-with-citrus-vinaigrette-56389342.jpg',\n",
              " '3-ingredient-pesto-fried-chicken.jpg',\n",
              " '4-3-2-1-spice-rub-51175040.jpg',\n",
              " '3-ingredient-red-snapper-with-green-sauce-and-scallions.jpg',\n",
              " '3-ingredient-smoked-mozzarella-sticks.jpg',\n",
              " 'angry-shrimp-51219630.jpg',\n",
              " 'apple-galettes-with-caramel-sauce-240489.jpg',\n",
              " 'apricot-anise-tarts-395030.jpg',\n",
              " 'apple-walnut-ginger-galette-368305.jpg',\n",
              " 'apple-tart-with-caramel-sauce-236507.jpg',\n",
              " 'apple-pie-cookies.jpg',\n",
              " 'barbecued-chicken-and-chickpea-quesadillas-363314.jpg',\n",
              " 'bratwurst-and-red-cabbage-51263820.jpg',\n",
              " 'black-rice-pudding-233288.jpg',\n",
              " 'baked-chicken-with-white-beans-and-tomatoes-231182.jpg',\n",
              " 'bazooka-bubblegum-cocktail-350146.jpg',\n",
              " 'basic-butter-cookie-dough-13504.jpg',\n",
              " 'brisket-with-pomegranate-walnut-sauce-and-pistachio-gremolata.jpg',\n",
              " 'breakfast-polenta-with-chorizo-and-queso-fresco-231278.jpg',\n",
              " 'bratwurst-in-beer-243230.jpg',\n",
              " 'bagels-with-japanese-ish-fixings.jpg',\n",
              " 'atlanta-brisket-51139200.jpg',\n",
              " 'big-apple-detox-51215610.jpg',\n",
              " 'brandied-hot-chocolate-231222.jpg',\n",
              " 'black-bean-chili-with-crispy-pork-and-poblano-salsa-241620.jpg',\n",
              " 'bacon-cheddar-quick-bread-with-dried-pears-350100.jpg',\n",
              " 'brussels-sprouts-with-bacon-and-raisins-394671.jpg',\n",
              " 'balsamic-fig-chutney-with-roasted-grapes-240757.jpg',\n",
              " 'baja-cabbage-slaw-363455.jpg',\n",
              " 'barley-soup-with-greens-fennel-lemon-and-dill-357291.jpg',\n",
              " 'blackberry-lemon-and-gingersnap-cheesecake-pudding-360229.jpg',\n",
              " 'avocado-and-pink-grapefruit-salad-with-coriander-350397.jpg',\n",
              " 'braised-lamb-shanks-with-fish-sauce.jpg',\n",
              " 'blood-orange-and-grapefruit-salad-with-cinnamon.jpg',\n",
              " 'braised-chicken-with-shallots-garlic-and-balsamic-vinegar-105589.jpg',\n",
              " 'beer-braised-hot-dogs-with-braised-sauerkraut-353818.jpg',\n",
              " 'beet-cured-lox-51237050.jpg',\n",
              " 'asparagus-with-morels-and-tarragon-238445.jpg',\n",
              " 'bourbon-butterscotch-pudding-51147530.jpg',\n",
              " 'black-bottom-oatmeal-pie-51257320.jpg',\n",
              " 'barley-risotto-with-asparagus-and-hazelnuts-238091.jpg',\n",
              " 'black-bean-burgers-351297.jpg',\n",
              " 'babees-easter-bread.jpg',\n",
              " 'bean-salad-with-lemon-and-herbs-51236510.jpg',\n",
              " 'black-beans-and-rice-with-chicken-and-apple-salsa-378344.jpg',\n",
              " 'black-and-orange-halloween-pasta-356169.jpg',\n",
              " 'blueberry-lemon-crumbles-233292.jpg',\n",
              " 'bacon-wrapped-salmon-with-wilted-spinach-233802.jpg',\n",
              " 'black-apple-old-fashioned-teague-jagermeister.jpg',\n",
              " 'braised-beef-cheeks-107803.jpg',\n",
              " 'blood-and-sand-351599.jpg',\n",
              " 'bresaola-carpaccio-with-gribiche-vinaigrette-235463.jpg',\n",
              " 'bomboloni-with-chocolate-espresso-whisky-caramel-and-clementine-sauces-369289.jpg',\n",
              " 'black-bean-tacos-with-corn-salsa-395098.jpg',\n",
              " 'chocolate-coconut-pound-cake-51223990.jpg',\n",
              " 'caramelized-onion-flatbreads-with-creme-fraiche-233905.jpg',\n",
              " 'cinnamon-date-buns-51260340.jpg',\n",
              " 'chicken-meatballs-with-molokhieh-falastin.jpg',\n",
              " 'bucatini-with-sausage-and-peppers-56389445.jpg',\n",
              " 'chocolate-covered-mint-ice-cream-terrine-238970.jpg',\n",
              " 'chocolate-orange-cheesecakes-230482.jpg',\n",
              " 'chicken-under-a-brick-51175280.jpg',\n",
              " 'clam-and-cod-chowder-51264450.jpg',\n",
              " 'chock-full-blondie-squares-233291.jpg',\n",
              " 'chocolate-truffles-364213.jpg',\n",
              " 'chocolate-cherry-cola-cake-56389603.jpg',\n",
              " 'caramel-cinnamon-monkey-bread.jpg',\n",
              " 'cocoa-nib-chocolate-and-citrus-dacquoise-351263.jpg',\n",
              " 'chipotle-tomato-salsa-239965.jpg',\n",
              " 'butter-lettuce-chicken-and-cherry-salad-365669.jpg',\n",
              " 'candy-cane-chocolate-cookies-51256740.jpg',\n",
              " 'caramel-madness-394770.jpg',\n",
              " 'chicken-alfredo-with-zucchini-ribbons-51182610.jpg',\n",
              " 'chili-con-carne-363749.jpg',\n",
              " 'chicory-escarole-radicchio-salad-with-honey-mustard-vinaigrette.jpg',\n",
              " 'chili-and-honey-chicken-legs-231997.jpg',\n",
              " 'capellini-en-brodo-51259360.jpg',\n",
              " 'cacao-water-agua-de-cacao.jpg',\n",
              " 'chocolate-raspberry-panini-with-mascarpone-359814.jpg',\n",
              " 'burgers-with-mozzarella-and-spinach-arugula-pesto-235619.jpg',\n",
              " 'cinnamon-toast-bites.jpg',\n",
              " 'cauliflower-chowchow-366690.jpg',\n",
              " 'bubble-and-squeak-with-stilton.jpg',\n",
              " 'chicken-and-cilantro-bites-231978.jpg',\n",
              " 'chicken-and-artichoke-fricassee-with-morel-mushrooms-237905.jpg',\n",
              " 'chocolate-and-hazelnut-spread-367792.jpg',\n",
              " 'chicken-bolognese-with-crispy-oregano-56390067.jpg',\n",
              " 'chickpea-crepe-tacos-with-eggplant-and-lamb.jpg',\n",
              " 'chocolate-sandwich-cookies-367449.jpg',\n",
              " 'cauliflower-soup-with-hazelnuts-and-bacon.jpg',\n",
              " 'buttermilk-waffles-with-cherry-almond-sauce-351550.jpg',\n",
              " 'ceviche-clasico-classic-ceviche-56389772.jpg',\n",
              " 'chocolate-espresso-lava-cakes-with-espresso-whipped-cream-106232.jpg',\n",
              " 'citrus-and-endive-with-walnut-gremolata-51255170.jpg',\n",
              " 'chocolate-lovers-butterscotch-chiffon-tart-234017.jpg',\n",
              " 'caramelized-onion-pasta.jpg',\n",
              " 'challah-bread-51256510.jpg',\n",
              " 'chocolate-chip-and-peanut-blondies-353839.jpg',\n",
              " 'carrots-with-shallots-sage-and-thyme-356039.jpg',\n",
              " 'chocolate-banana-tarts-238650.jpg',\n",
              " 'cardamom-sour-cream-waffles-241528.jpg',\n",
              " 'chinese-trinidadian-stir-fried-shrimp-with-rum-388610.jpg',\n",
              " 'chocolate-budino-with-candied-walnuts.jpg',\n",
              " 'chicken-and-potato-gratin-brown-butter-cream.jpg',\n",
              " 'cinnamon-toast-ice-cream-235485.jpg',\n",
              " 'chocolate-swirl-tiramisu-56390073.jpg',\n",
              " 'campfire-potatoes-354312.jpg',\n",
              " 'buttermilk-panna-cotta-with-rhubarb-strawberry-jelly-51161400.jpg',\n",
              " 'chocolate-sponge-cake-394672.jpg',\n",
              " 'celery-root-and-potato-puree-with-roasted-jerusalem-artichoke-croutons-361250.jpg',\n",
              " 'chocolate-and-passionfruit-layer-cake.jpg',\n",
              " 'cherry-topped-almond-panna-cotta-359391.jpg',\n",
              " 'caipirinha-de-uva-350147.jpg',\n",
              " 'chocolate-dulce-de-leche-bars-242874.jpg',\n",
              " 'chickpea-and-chorizo-tostadas.jpg',\n",
              " 'chocolate-chipotle-shortbread-357999.jpg',\n",
              " 'farmers-market-salad-with-aged-gouda-and-roasted-portabellas-354521.jpg',\n",
              " 'corn-cacio-e-pepe.jpg',\n",
              " 'coffee-cake-51225420.jpg',\n",
              " 'easy-chicken-nuggets-51261930.jpg',\n",
              " 'deviled-chicken-drumsticks-243191.jpg',\n",
              " 'egg-roulade-stuffed-with-turkey-sausage-mushrooms-and-spinach-231999.jpg',\n",
              " 'deviled-ham-and-pecan-tea-sandwiches-241209.jpg',\n",
              " 'coconut-shrimp-beignets-with-pepper-jelly-sauce-51120000.jpg',\n",
              " 'fresh-pasta-with-crabmeat-peas-and-chile-352854.jpg',\n",
              " 'coconut-pound-cake-232175.jpg',\n",
              " 'endive-apple-and-celery-salad-with-smoked-almonds-and-cheddar.jpg',\n",
              " 'crispy-sheet-pan-broccoli.jpg',\n",
              " 'coconut-doughnuts-51126410.jpg',\n",
              " 'crispy-eggplant-fritters-with-smoked-mozzarella-239053.jpg',\n",
              " 'curried-potato-and-spinach-soup-with-onion-salsa-and-minted-yogurt-234125.jpg',\n",
              " 'crispy-spring-rolls-232437.jpg',\n",
              " 'cod-with-lemon-green-olive-and-onion-relish-51193850.jpg',\n",
              " 'cucumbers-with-wasabi-and-rice-vinegar-242292.jpg',\n",
              " 'cranberry-eggnog-tart-231017.jpg',\n",
              " 'eggs-with-pickled-shallot-and-parsley.jpg',\n",
              " 'concord-grape-cornmeal-cake-51122620.jpg',\n",
              " 'comforting-little-beef-casseroles-for-one.jpg',\n",
              " 'crunchy-stuffed-cremini-mushrooms.jpg',\n",
              " 'cornflake-crusted-banana-stuffed-french-toast-365849.jpg',\n",
              " 'fresh-country-pork-sausage-with-pepper-and-sage-108286.jpg',\n",
              " 'cranberry-chutney-with-orange-figs-and-mustard.jpg',\n",
              " 'corn-on-the-cob-with-lime-chive-butter-232566.jpg',\n",
              " 'deep-chocolate-pound-cake-350093.jpg',\n",
              " 'eggplant-with-cashew-butter-and-pickled-peppers.jpg',\n",
              " 'farmhouse-cheese-and-caraway-soda-bread-puddings-388796.jpg',\n",
              " 'dry-rubbed-roast-turkey.jpg',\n",
              " 'filets-mignons-with-spiced-butter-glazed-artichokes-and-haricots-verts-237184.jpg',\n",
              " 'corn-and-chickpea-bowls-with-miso-tahini.jpg',\n",
              " 'filet-mignon-with-stroganov-sauce-236399.jpg',\n",
              " 'concord-grape-sorbet-with-rosemary-and-black-pepper-51238880.jpg',\n",
              " 'fresh-chanterelles-with-shallots-237319.jpg',\n",
              " 'curried-couscous-with-roasted-vegetables-peach-chutney-and-cilantro-yogurt-106940.jpg',\n",
              " 'fighting-irish-51228410.jpg',\n",
              " 'cold-pea-soup-with-herbed-oil-swirl-56389734.jpg',\n",
              " 'dark-chocolate-mousse-with-sugared-kumquats-231117.jpg',\n",
              " 'deviled-egg-salad-spread.jpg',\n",
              " 'finnan-haddie-chowder-51119010.jpg',\n",
              " 'creamy-avocado-dip-with-scallions.jpg',\n",
              " 'filets-mignons-with-orange-fennel-crust-232971.jpg',\n",
              " 'espresso-pound-cake-with-cranberries-and-pecans-364074.jpg',\n",
              " 'corned-beef-51225210.jpg',\n",
              " 'derby-mint-julep-56389507.jpg',\n",
              " 'gochujang-braised-chicken-and-crispy-rice.jpg',\n",
              " 'ginger-pineapple-sparkling-punch-231223.jpg',\n",
              " 'guacamole-tacos-with-tomatillo-and-steak-sauce-238510.jpg',\n",
              " 'honey-date-and-pecan-tart-241628.jpg',\n",
              " 'fruit-cup-with-lime-syrup-239272.jpg',\n",
              " 'hot-honey-pork-chops-with-escarole-and-white-beans.jpg',\n",
              " 'grilled-leg-of-lamb-with-ancho-chile-marinade-359334.jpg',\n",
              " 'grilled-veggie-and-tofu-stack-with-balsamic-and-mint-353313.jpg',\n",
              " 'hillstone-iron-skillet-cornbread.jpg',\n",
              " 'frozen-sunrise-margaritas-51147200.jpg',\n",
              " 'herbed-feta-dip-51223620.jpg',\n",
              " 'giant-chocolate-cake-with-bittersweet-chocolate-ganache-and-edible-flowers-353421.jpg',\n",
              " 'grilled-steaks-with-blue-cheese-and-chiles-231876.jpg',\n",
              " 'grilled-clam-toasts-with-lemon-and-green-olives.jpg',\n",
              " 'goat-cheese-stuffed-lamb-burgers-with-caramelized-red-onions.jpg',\n",
              " 'grits-and-grunts-51168010.jpg',\n",
              " 'harissa-marinated-top-sirloin-tips-359335.jpg',\n",
              " 'garlicky-black-pepper-shrimp-and-black-eyed-peas-351811.jpg',\n",
              " 'fried-onion-dippers-with-balsamic-ketchup-51107810.jpg',\n",
              " 'hummus-237832.jpg',\n",
              " 'frozen-pumpkin-mousse-with-walnut-toffee-crunch-231123.jpg',\n",
              " 'grilled-lamb-and-fig-skewers-with-mint-pepper-glaze-and-grilled-eggplant-238566.jpg',\n",
              " 'greek-potato-and-almond-dip-356110.jpg',\n",
              " 'grilled-turkey-under-a-brick.jpg',\n",
              " 'hanoi-grilled-turmeric-fish-with-dill-and-onion.jpg',\n",
              " 'herb-and-spice-southern-fried-chicken-358324.jpg',\n",
              " 'grilled-steak-vegetable-and-quinoa-salad-with-yogurt-tahini-dressing-56389685.jpg',\n",
              " 'garlic-mojo-hot-dogs-353836.jpg',\n",
              " 'grilled-chicken-and-ratatouille-242469.jpg',\n",
              " 'grilled-clams-with-herb-butter-395935.jpg',\n",
              " 'grilled-corn-with-lime-cilantro-butter-358137.jpg',\n",
              " 'green-olive-tapenade.jpg',\n",
              " 'grilled-corn-with-honey-ginger-barbecue-sauce-51108010.jpg',\n",
              " 'inside-out-apple-pie-a-la-mode-51120410.jpg',\n",
              " 'grilled-corn-on-the-cob-with-a-trio-of-flavored-butters-240229.jpg',\n",
              " 'insalata-di-puntarelle-232084.jpg',\n",
              " 'green-garlic-panisse-51211230.jpg',\n",
              " 'hurricane-358330.jpg',\n",
              " 'grilled-pork-chops-with-chunky-andouille-barbecue-sauce-232557.jpg',\n",
              " 'ice-cream-with-saffron-oil-and-sesame-wafer.jpg',\n",
              " 'green-panzanella-with-pickled-shallot-51179200.jpg',\n",
              " 'garlic-oregano-grilled-pita-bread-354512.jpg',\n",
              " 'greek-salad-with-pickled-beet-olives-51171600.jpg',\n",
              " 'indian-style-butter-chicken-curry.jpg',\n",
              " 'goat-cheese-honey-and-rye-crust-pie.jpg',\n",
              " 'honey-hazelnut-financiers-51234850.jpg',\n",
              " 'hickory-smoked-baby-back-ribs-rob-rainford.jpg',\n",
              " 'gluten-free-chocolate-and-buckwheat-waffles.jpg',\n",
              " 'glazed-pearl-onions-and-grapes-352278.jpg',\n",
              " 'glazed-root-vegetables-355194.jpg',\n",
              " 'lobster-salad-with-glass-noodles-and-jicama-232489.jpg',\n",
              " 'milk-bar-pie.jpg',\n",
              " 'mahi-mahi-skewers-with-tapenade-and-couscous-353375.jpg',\n",
              " 'nicoise-toasts-51104420.jpg',\n",
              " 'mashed-potatoes-with-garlic-mascarpone-and-caramelized-leeks-233164.jpg',\n",
              " 'moroccan-spiced-chicken-paillards-233792.jpg',\n",
              " 'lemonade-jelly-with-basil-51176800.jpg',\n",
              " 'mini-paris-cupcakes-241546.jpg',\n",
              " 'nasturtium-butter-56389550.jpg',\n",
              " 'mashed-sweet-potatoes-with-banana-and-brown-sugar-358669.jpg',\n",
              " 'oat-and-pistachio-sandies-51260350.jpg',\n",
              " 'lemon-and-fig-cupcakes.jpg',\n",
              " 'lemon-souffle-pudding-cake-51248490.jpg',\n",
              " 'mint-syrup-363477.jpg',\n",
              " 'mussels-with-tomatoes-wine-and-anise-233376.jpg',\n",
              " 'marinated-tofu-with-peanuts-and-charred-bean-sprouts-51245230.jpg',\n",
              " 'maple-glazed-sour-cream-doughnuts-with-sugared-walnut-streusel-230925.jpg',\n",
              " 'johnny-iuzzinis-chocolate-soup-363320.jpg',\n",
              " 'mini-potato-leek-frittata.jpg',\n",
              " 'multilayered-anchovy-bread-234245.jpg',\n",
              " 'marinated-summer-squash-with-hazelnuts-and-ricotta.jpg',\n",
              " 'linguine-with-bay-scallops-fennel-and-tomatoes-357250.jpg',\n",
              " 'kashmiri-hot-sauce.jpg',\n",
              " 'kabocha-squash-pilaf-with-coconut.jpg',\n",
              " 'lemon-snow-pudding-with-basil-custard-sauce-352321.jpg',\n",
              " 'molasses-crinkles-231214.jpg',\n",
              " 'linguine-with-white-clam-sauce-232139.jpg',\n",
              " 'marinated-beans-with-celery-and-ricotta-salata.jpg',\n",
              " 'mustard-crusted-tofu-with-kale-and-sweet-potato-239827.jpg',\n",
              " 'napa-valley-winter-punch-239788.jpg',\n",
              " 'marinated-skirt-steak-232357.jpg',\n",
              " 'maple-sugar-tartlets-234002.jpg',\n",
              " 'kaleslaw-56389912.jpg',\n",
              " 'nanas-butter-cookies-with-milk-jam-filling-51248640.jpg',\n",
              " 'lamb-rack-with-cucumber-yogurt-51157610.jpg',\n",
              " 'meringues-234238.jpg',\n",
              " 'mussels-with-parsley-and-garlic-103175.jpg',\n",
              " 'manhattan-238166.jpg',\n",
              " 'iron-skillet-succotash-361813.jpg',\n",
              " 'mexican-pasta-surprise.jpg',\n",
              " 'macadamia-coconut-tart-236388.jpg',\n",
              " 'mixed-seafood-grill-with-paprika-lemon-dressing-238229.jpg',\n",
              " 'mezcal-mule-emma-janzen.jpg',\n",
              " 'mixed-mushroom-tamales-230996.jpg',\n",
              " 'mix-and-match-summer-berry-and-cream-fools.jpg',\n",
              " 'mahimahi-with-charred-onion-tomatoes-and-tapenade-vinaigrette-238948.jpg',\n",
              " 'open-face-wild-mushroom-and-fontina-sandwiches-230939.jpg',\n",
              " 'miso-tofu-ranch-dip-51193020.jpg',\n",
              " 'lime-cilantro-sweet-potatoes-109459.jpg',\n",
              " 'nutty-crunch-cookies-51223830.jpg',\n",
              " 'michael-romanos-secret-ingredient-soup-51156400.jpg',\n",
              " 'minted-green-salad-351132.jpg',\n",
              " 'joses-gin-tonic-51179040.jpg',\n",
              " 'licorice-pudding-237683.jpg',\n",
              " 'linguine-al-limone-with-grilled-chia-chicken-meatballs-51250020.jpg',\n",
              " 'mezcal-sour.jpg',\n",
              " 'nasi-lemak.jpg',\n",
              " 'italian-kale-caesar-salad.jpg',\n",
              " 'moscatel-glazed-parsnips-350583.jpg',\n",
              " 'mirror-cake-glaze.jpg',\n",
              " 'linguine-with-red-peppers-green-onions-and-pine-nuts-102653.jpg',\n",
              " 'new-and-improved-greek-salad.jpg',\n",
              " 'mexican-pineapple-salad-351414.jpg',\n",
              " 'mini-sage-and-fontina-grilled-cheese-sandwiches-357312.jpg',\n",
              " 'lamb-shanks-with-pomegranate-and-walnuts.jpg',\n",
              " 'phyllo-pizza-with-smoked-mozzarella-and-cherry-tomatoes-359570.jpg',\n",
              " 'pan-seared-salmon-on-baby-arugula-242445.jpg',\n",
              " 'peanut-cookies-101856.jpg',\n",
              " 'pasta-with-15-minute-garlic-oil-and-anchovy-sauce-56390061.jpg',\n",
              " 'pan-seared-squid-with-lemony-aioli-and-greens-51234480.jpg',\n",
              " 'poached-egg-crostone-with-wilted-spinach-and-bacon-236183.jpg',\n",
              " 'quick-pickled-vegetables.jpg',\n",
              " 'pickled-umeboshi-beets-51209680.jpg',\n",
              " 'pico-de-gallo-verde.jpg',\n",
              " 'poached-wild-salmon-with-peas-and-morels-395473.jpg',\n",
              " 'poached-chicken-with-tomatoes-olives-and-green-beans-109737.jpg',\n",
              " 'pas-fudge-363414.jpg',\n",
              " 'pink-peppercorn-bacon-51205330.jpg',\n",
              " 'pappardelle-with-pancetta-broccoli-rabe-and-pine-nuts-234397.jpg',\n",
              " 'our-favorite-latkes-51259720.jpg',\n",
              " 'pizza-dough-237338.jpg',\n",
              " 'quick-poached-salmon-with-speedy-ratatouille.jpg',\n",
              " 'prosciutto-wrapped-grissini-240243.jpg',\n",
              " 'rabbit-punch-394703.jpg',\n",
              " 'passion-fruit-gelee-with-basil-cream-235038.jpg',\n",
              " 'pappardelle-with-vegetable-bolognese-236401.jpg',\n",
              " 'quick-marinated-skirt-steak-with-sriracha-potatoes-and-spinach-51261040.jpg',\n",
              " 'panna-cotta-with-strawberry-vin-santo-sauce-103466.jpg',\n",
              " 'penne-with-green-olives-and-feta-241865.jpg',\n",
              " 'penne-with-radicchio-spinach-and-bacon-241093.jpg',\n",
              " 'past-derby-winner-51233860.jpg',\n",
              " 'poblano-potato-and-corn-gratin-357891.jpg',\n",
              " 'orecchiette-with-cauliflower-anchovies-and-fried-croutons-358497.jpg',\n",
              " 'pineapple-shrimp-noodle-bowls.jpg',\n",
              " 'original-martini-237573.jpg',\n",
              " 'plantain-stuffed-chipotles-chiles-in-escabeche-235983.jpg',\n",
              " 'pot-au-feu-241767.jpg',\n",
              " 'poached-lobster-tails-and-fried-oyster-with-mango-and-avocado-puree-51191010.jpg',\n",
              " 'pork-chops-with-chiles-rellenos-and-ancho-sauce-354299.jpg',\n",
              " 'pumpkin-corn-and-lemongrass-soup-240545.jpg',\n",
              " 'prune-cherry-and-apricot-frangipane-tart-350630.jpg',\n",
              " 'pot-roasted-celery-root-with-olives-and-buttermilk-394712.jpg',\n",
              " 'peach-prosecco-394700.jpg',\n",
              " 'orange-pumpkin-cloverleafs-351421.jpg',\n",
              " 'seder-plate-salad.jpg',\n",
              " 'seared-scallops-with-avocado-and-daikon-51214680.jpg',\n",
              " 'roasted-radicchio-with-anchovy-vinaigrette-preserved-lemon-and-breadcrumbs-360650.jpg',\n",
              " 'sauteed-zucchini-51140510.jpg',\n",
              " 'roasted-sardines-with-carrot-fennel-slaw-51238870.jpg',\n",
              " 'saffron-risotto-238643.jpg',\n",
              " 'raspberry-buttermilk-cake-353616.jpg',\n",
              " 'roasted-spring-vegetables-395451.jpg',\n",
              " 'rib-eye-roast-240785.jpg',\n",
              " 'roasted-baby-carrots-with-chile-mint-and-orange-glaze-357513.jpg',\n",
              " 'salmon-steaks-with-red-wine-butter-230462.jpg',\n",
              " 'saffron-pear-lollipops-51259420.jpg',\n",
              " 'sangria-242664.jpg',\n",
              " 'sicilian-style-potato-gratin-241633.jpg',\n",
              " 'roasted-cherry-tomato-and-fresh-herb-bread-231272.jpg',\n",
              " 'rose-sangria-with-pineapple-and-guava-353371.jpg',\n",
              " 'sauteed-cod-with-lentils-230747.jpg',\n",
              " 'scrambled-eggs-with-leeks-fava-beans-crispy-breadcrumbs-and-parmesan-358234.jpg',\n",
              " 'savory-cantaloupe-and-cucumber-fruit-salad.jpg',\n",
              " 'simply-blueberry-sorbet-232350.jpg',\n",
              " 'roasted-brussels-sprout-and-apple-salad-51188450.jpg',\n",
              " 'romaine-wedges-with-tangy-blue-cheese-vinaigrette-241848.jpg',\n",
              " 'sage-stuffing-107372.jpg',\n",
              " 'seafood-paella-with-edamame-367830.jpg',\n",
              " 'roasted-peanut-soup-with-honey-whipped-cream-388698.jpg',\n",
              " 'salt-and-pepper-crusted-rib-roast-350203.jpg',\n",
              " 'sausage-ragout-with-linguine-350157.jpg',\n",
              " 'roasted-bosc-pears-with-pomegranate-glaze-230908.jpg',\n",
              " 'rustic-pear-cranberry-tart-357233.jpg',\n",
              " 'roast-bone-marrow-with-parsley-salad-365791.jpg',\n",
              " 'sangria-blanco-51239850.jpg',\n",
              " 'roasted-black-bass-with-orange-flower-water.jpg',\n",
              " 'sauteed-pork-chop-with-sage-cider-cream-sauce-231187.jpg',\n",
              " 'saffron-rice-pilaf-352325.jpg',\n",
              " 'salmon-nduja-with-pickled-currants.jpg',\n",
              " 'red-white-and-blueberry-pie-51241610.jpg',\n",
              " 'sams-spring-cucumber-radish-fattoush-salad.jpg',\n",
              " 'salt-and-pepper-rib-eye-366405.jpg',\n",
              " 'roasted-pepper-and-onion-salad-with-blue-cheese-51117420.jpg',\n",
              " 'seitan-flares-51100010.jpg',\n",
              " 'sauteed-sea-scallops-with-apple-sesame-couscous-and-purple-and-yellow-cauliflower-purees-51192820.jpg',\n",
              " 'roast-beef-with-scallion-caper-green-sauce-238108.jpg',\n",
              " 'sausages-with-caramelized-red-onions-and-radicchio-241090.jpg',\n",
              " 'roasted-arctic-char-with-orange-lentil-salad-51101040.jpg',\n",
              " 'roasted-red-bell-peppers-231977.jpg',\n",
              " 'red-snapper-with-coconut-clam-broth.jpg',\n",
              " 'shrimp-scampi-with-quick-preserved-lemon-and-fennel-on-polenta-360729.jpg',\n",
              " 'reginetti-with-savoy-cabbage-and-pancetta-51264250.jpg',\n",
              " 'roasted-fingerlings-with-red-and-yellow-piperade-240410.jpg',\n",
              " 'seafood-gumbo-241194.jpg',\n",
              " 'roasted-shrimp-with-chile-gremolata-51223810.jpg',\n",
              " 'roasted-onions-with-gruyere-croutons-356334.jpg',\n",
              " 'reuben-sandwich-231677.jpg',\n",
              " 'roasted-butternut-squash-with-lime-juice-240368.jpg',\n",
              " 'spaghetti-alla-carbonara-di-zucchine-232096.jpg',\n",
              " 'spaghetti-with-sardines-dill-and-fried-capers-352792.jpg',\n",
              " 'stilton-tart-with-cranberry-chutney-105906.jpg',\n",
              " 'tandoori-style-roast-chicken-351426.jpg',\n",
              " 'sunshine-cake.jpg',\n",
              " 'smoked-whitefish-on-cucumber-rounds-231178.jpg',\n",
              " 'spiced-lamb-burger-51239660.jpg',\n",
              " 'spiced-coffee-affogato-with-vanilla-ice-cream.jpg',\n",
              " 'sumo-stew-chanko-nabe-with-shrimp-meatballs-and-bok-choy.jpg',\n",
              " 'strawberry-cucumber-salad-with-lemon-cream-56389861.jpg',\n",
              " 'spiced-fava-bean-soup-with-rice-and-tomato-51232410.jpg',\n",
              " 'the-widows-touch-243424.jpg',\n",
              " 'spinach-in-yogurt-sauce-394650.jpg',\n",
              " 'spiced-salmon-kebabs-51169490.jpg',\n",
              " 'strawberry-cheesecake-with-gingersnap-crust-101704.jpg',\n",
              " 'strawberry-tiramisu-234447.jpg',\n",
              " 'stir-fried-garlic-lettuce-233211.jpg',\n",
              " 'spicy-confit-chiles.jpg',\n",
              " 'southern-mac-and-cheese-388717.jpg',\n",
              " 'steamed-mussels-in-white-wine-367721.jpg',\n",
              " 'spinach-and-chick-peas-with-bacon-103070.jpg',\n",
              " 'summer-pizza-with-salami-zucchini-and-tomatoes.jpg',\n",
              " 'spinach-artichoke-flatbread-pizzas.jpg',\n",
              " 'smashed-fingerlings-with-jalapenos-51239670.jpg',\n",
              " 'slow-cooked-bell-peppers-with-bay-leaves-and-oregano.jpg',\n",
              " 'smoky-black-bean-dip-104800.jpg',\n",
              " 'stir-fried-pork-with-long-beans-242310.jpg',\n",
              " 'smashed-carrots-241954.jpg',\n",
              " 'taqueria-guacamole-395944.jpg',\n",
              " 'sumac-skirt-steak-with-pomegranate-reduction-235757.jpg',\n",
              " 'spiced-rum-no-5-394715.jpg',\n",
              " 'strawberry-rhubarb-crisps-with-cardamom-and-nutmeg-231744.jpg',\n",
              " 'spaghetti-and-meatballs-allamatriciana-356791.jpg',\n",
              " 'tapenade-filled-burgers-234645.jpg',\n",
              " 'spinach-leek-and-cheese-pie-239023.jpg',\n",
              " 'smoked-salmon-tarama-with-pita-chips-241106.jpg',\n",
              " 'sticky-sesame-chicken-wings-234650.jpg',\n",
              " 'spicy-and-greasy-rhode-island-calamari-51237100.jpg',\n",
              " 'souffleed-cheesecake.jpg',\n",
              " 'smoked-fish-chowder-104697.jpg',\n",
              " 'spring-salad-with-crispy-chicken-and-bacony-croutons.jpg',\n",
              " 'smoked-fish-fritters-with-beet-vinaigrette-51147490.jpg',\n",
              " 'steak-and-eggs-korean-style-239793.jpg',\n",
              " 'spicy-pork-and-mustard-green-soup-51210260.jpg',\n",
              " 'sugar-cookies-233298.jpg',\n",
              " 'spiced-roast-pork-with-fennel-and-apple-salad.jpg',\n",
              " 'spaghetti-with-chorizo-and-almonds-238937.jpg',\n",
              " 'sour-cherry-relish.jpg',\n",
              " 'slow-cooked-pork-with-chickpeas.jpg',\n",
              " 'spatchcocked-turkey-with-anise-and-orange-51255070.jpg',\n",
              " 'steak-salad-with-caraway-vinaigrette-and-rye-croutons-51234240.jpg',\n",
              " 'spiced-sugarplum-and-caramelized-apple-tartlets-with-calvados-cream-231328.jpg',\n",
              " 'stuffed-butterflied-leg-of-lamb-with-caramelized-lemon-jus-243005.jpg',\n",
              " 'spooky-witches-361533.jpg',\n",
              " 'spicy-chipotle-chicken-tostadas-56389833.jpg',\n",
              " 'vegan-nicoise-style-salad.jpg',\n",
              " 'whole-wheat-dinner-rolls-240420.jpg',\n",
              " 'tofu-and-meat-loaf-239220.jpg',\n",
              " 'zhoug-spicy-herb-sauce.jpg',\n",
              " 'vanilla-custard-sauce-241647.jpg',\n",
              " 'tomato-butter-51108420.jpg',\n",
              " 'watermelon-sugar-366755.jpg',\n",
              " 'wine-cake-with-macerated-strawberries-234275.jpg',\n",
              " 'vegetarian-miso-tahini-squash-soup-with-brown-rice.jpg',\n",
              " 'tomatillo-avocado-salsa-with-tortilla-chips-357330.jpg',\n",
              " 'waffled-macaroni-and-cheese.jpg',\n",
              " 'zucchini-kofte-with-beet-bulgur-pilaf-350230.jpg',\n",
              " 'walnut-orange-cake-240088.jpg',\n",
              " 'whole-grilled-japanese-eggplant-with-lemon-and-soy-sauce-365629.jpg',\n",
              " 'vegetarian-brown-rice-salad-with-parsnips-and-whipped-ricotta.jpg',\n",
              " 'turmeric-ginger-chicken-soup.jpg',\n",
              " 'yum-yum-nut-sweets-369549.jpg',\n",
              " 'turkey-posole-51255500.jpg',\n",
              " 'yogurt-and-persian-shallot-dip-mast-o-musir.jpg',\n",
              " 'whole-branzino-roasted-in-salt-233705.jpg',\n",
              " 'white-elephant-cake-with-buttercream-frosting-240023.jpg',\n",
              " 'two-way-chanterelle-and-pear-bread-stuffing.jpg',\n",
              " 'whole-striped-bass-with-lemon-and-mint-350088.jpg',\n",
              " 'vanilla-bean-coconut-cupcakes-with-coconut-frosting-352095.jpg',\n",
              " 'ultimate-grilled-cheese-sandwich-236199.jpg',\n",
              " 'wood-grilled-oysters-in-chipotle-vinaigrette-359630.jpg',\n",
              " 'vegetable-and-feta-baked-frittata-51155800.jpg',\n",
              " 'tomato-coconut-curry-with-cod.jpg',\n",
              " 'tonatto-eggs.jpg',\n",
              " 'vanilla-bean-rice-pudding-351549.jpg',\n",
              " 'watercress-orange-and-avocado-salad-233390.jpg',\n",
              " 'wilted-spinach-with-roasted-garlic-240366.jpg']"
            ]
          },
          "metadata": {},
          "execution_count": 16
        }
      ]
    },
    {
      "cell_type": "markdown",
      "source": [
        "Création dataframe avec les noms des photos"
      ],
      "metadata": {
        "id": "-Q4TYFwxeM7O"
      }
    },
    {
      "cell_type": "code",
      "source": [
        "df =  pd.DataFrame(columns=['Nom_entier','Nom_sans_format'])"
      ],
      "metadata": {
        "id": "MW-NiQMQePlQ"
      },
      "execution_count": 7,
      "outputs": []
    },
    {
      "cell_type": "code",
      "source": [
        "df"
      ],
      "metadata": {
        "colab": {
          "base_uri": "https://localhost:8080/",
          "height": 49
        },
        "id": "H7q6FIi3exLc",
        "outputId": "2de65441-29b6-44b3-85eb-c1e8105b54b0"
      },
      "execution_count": 8,
      "outputs": [
        {
          "output_type": "execute_result",
          "data": {
            "text/plain": [
              "Empty DataFrame\n",
              "Columns: [Nom_entier, Nom_sans_format]\n",
              "Index: []"
            ],
            "text/html": [
              "\n",
              "  <div id=\"df-f5ee19a1-b07f-42bb-b798-85b829bad5d9\">\n",
              "    <div class=\"colab-df-container\">\n",
              "      <div>\n",
              "<style scoped>\n",
              "    .dataframe tbody tr th:only-of-type {\n",
              "        vertical-align: middle;\n",
              "    }\n",
              "\n",
              "    .dataframe tbody tr th {\n",
              "        vertical-align: top;\n",
              "    }\n",
              "\n",
              "    .dataframe thead th {\n",
              "        text-align: right;\n",
              "    }\n",
              "</style>\n",
              "<table border=\"1\" class=\"dataframe\">\n",
              "  <thead>\n",
              "    <tr style=\"text-align: right;\">\n",
              "      <th></th>\n",
              "      <th>Nom_entier</th>\n",
              "      <th>Nom_sans_format</th>\n",
              "    </tr>\n",
              "  </thead>\n",
              "  <tbody>\n",
              "  </tbody>\n",
              "</table>\n",
              "</div>\n",
              "      <button class=\"colab-df-convert\" onclick=\"convertToInteractive('df-f5ee19a1-b07f-42bb-b798-85b829bad5d9')\"\n",
              "              title=\"Convert this dataframe to an interactive table.\"\n",
              "              style=\"display:none;\">\n",
              "        \n",
              "  <svg xmlns=\"http://www.w3.org/2000/svg\" height=\"24px\"viewBox=\"0 0 24 24\"\n",
              "       width=\"24px\">\n",
              "    <path d=\"M0 0h24v24H0V0z\" fill=\"none\"/>\n",
              "    <path d=\"M18.56 5.44l.94 2.06.94-2.06 2.06-.94-2.06-.94-.94-2.06-.94 2.06-2.06.94zm-11 1L8.5 8.5l.94-2.06 2.06-.94-2.06-.94L8.5 2.5l-.94 2.06-2.06.94zm10 10l.94 2.06.94-2.06 2.06-.94-2.06-.94-.94-2.06-.94 2.06-2.06.94z\"/><path d=\"M17.41 7.96l-1.37-1.37c-.4-.4-.92-.59-1.43-.59-.52 0-1.04.2-1.43.59L10.3 9.45l-7.72 7.72c-.78.78-.78 2.05 0 2.83L4 21.41c.39.39.9.59 1.41.59.51 0 1.02-.2 1.41-.59l7.78-7.78 2.81-2.81c.8-.78.8-2.07 0-2.86zM5.41 20L4 18.59l7.72-7.72 1.47 1.35L5.41 20z\"/>\n",
              "  </svg>\n",
              "      </button>\n",
              "      \n",
              "  <style>\n",
              "    .colab-df-container {\n",
              "      display:flex;\n",
              "      flex-wrap:wrap;\n",
              "      gap: 12px;\n",
              "    }\n",
              "\n",
              "    .colab-df-convert {\n",
              "      background-color: #E8F0FE;\n",
              "      border: none;\n",
              "      border-radius: 50%;\n",
              "      cursor: pointer;\n",
              "      display: none;\n",
              "      fill: #1967D2;\n",
              "      height: 32px;\n",
              "      padding: 0 0 0 0;\n",
              "      width: 32px;\n",
              "    }\n",
              "\n",
              "    .colab-df-convert:hover {\n",
              "      background-color: #E2EBFA;\n",
              "      box-shadow: 0px 1px 2px rgba(60, 64, 67, 0.3), 0px 1px 3px 1px rgba(60, 64, 67, 0.15);\n",
              "      fill: #174EA6;\n",
              "    }\n",
              "\n",
              "    [theme=dark] .colab-df-convert {\n",
              "      background-color: #3B4455;\n",
              "      fill: #D2E3FC;\n",
              "    }\n",
              "\n",
              "    [theme=dark] .colab-df-convert:hover {\n",
              "      background-color: #434B5C;\n",
              "      box-shadow: 0px 1px 3px 1px rgba(0, 0, 0, 0.15);\n",
              "      filter: drop-shadow(0px 1px 2px rgba(0, 0, 0, 0.3));\n",
              "      fill: #FFFFFF;\n",
              "    }\n",
              "  </style>\n",
              "\n",
              "      <script>\n",
              "        const buttonEl =\n",
              "          document.querySelector('#df-f5ee19a1-b07f-42bb-b798-85b829bad5d9 button.colab-df-convert');\n",
              "        buttonEl.style.display =\n",
              "          google.colab.kernel.accessAllowed ? 'block' : 'none';\n",
              "\n",
              "        async function convertToInteractive(key) {\n",
              "          const element = document.querySelector('#df-f5ee19a1-b07f-42bb-b798-85b829bad5d9');\n",
              "          const dataTable =\n",
              "            await google.colab.kernel.invokeFunction('convertToInteractive',\n",
              "                                                     [key], {});\n",
              "          if (!dataTable) return;\n",
              "\n",
              "          const docLinkHtml = 'Like what you see? Visit the ' +\n",
              "            '<a target=\"_blank\" href=https://colab.research.google.com/notebooks/data_table.ipynb>data table notebook</a>'\n",
              "            + ' to learn more about interactive tables.';\n",
              "          element.innerHTML = '';\n",
              "          dataTable['output_type'] = 'display_data';\n",
              "          await google.colab.output.renderOutput(dataTable, element);\n",
              "          const docLink = document.createElement('div');\n",
              "          docLink.innerHTML = docLinkHtml;\n",
              "          element.appendChild(docLink);\n",
              "        }\n",
              "      </script>\n",
              "    </div>\n",
              "  </div>\n",
              "  "
            ]
          },
          "metadata": {},
          "execution_count": 8
        }
      ]
    },
    {
      "cell_type": "code",
      "source": [
        "df['Nom_entier'] = list_photos "
      ],
      "metadata": {
        "id": "_vOzjCB8ezGu"
      },
      "execution_count": 10,
      "outputs": []
    },
    {
      "cell_type": "markdown",
      "source": [
        "Formatter le nom des fichiers pour la comparaison"
      ],
      "metadata": {
        "id": "o--JKY2BdItv"
      }
    },
    {
      "cell_type": "code",
      "source": [
        "df['Nom_sans_format'] = df['Nom_entier'].str.slice(0,-4)"
      ],
      "metadata": {
        "id": "3brhqhVSiobE"
      },
      "execution_count": 11,
      "outputs": []
    },
    {
      "cell_type": "code",
      "source": [
        "df"
      ],
      "metadata": {
        "colab": {
          "base_uri": "https://localhost:8080/",
          "height": 423
        },
        "id": "6APTf67skY4p",
        "outputId": "5ab56dcb-c87f-4a40-c87e-9cb290e5d7c3"
      },
      "execution_count": 12,
      "outputs": [
        {
          "output_type": "execute_result",
          "data": {
            "text/plain": [
              "                                            Nom_entier  \\\n",
              "0      -em-ba-em-s-ultimate-lobster-rolls-51169080.jpg   \n",
              "1                               almond-cake-366229.jpg   \n",
              "2         anchovy-and-rosemary-roasted-lamb-231791.jpg   \n",
              "3    all-green-salad-with-citrus-vinaigrette-563893...   \n",
              "4                 3-ingredient-pesto-fried-chicken.jpg   \n",
              "..                                                 ...   \n",
              "456                  tomato-coconut-curry-with-cod.jpg   \n",
              "457                                   tonatto-eggs.jpg   \n",
              "458               vanilla-bean-rice-pudding-351549.jpg   \n",
              "459     watercress-orange-and-avocado-salad-233390.jpg   \n",
              "460      wilted-spinach-with-roasted-garlic-240366.jpg   \n",
              "\n",
              "                                      Nom_sans_format  \n",
              "0         -em-ba-em-s-ultimate-lobster-rolls-51169080  \n",
              "1                                  almond-cake-366229  \n",
              "2            anchovy-and-rosemary-roasted-lamb-231791  \n",
              "3    all-green-salad-with-citrus-vinaigrette-56389342  \n",
              "4                    3-ingredient-pesto-fried-chicken  \n",
              "..                                                ...  \n",
              "456                     tomato-coconut-curry-with-cod  \n",
              "457                                      tonatto-eggs  \n",
              "458                  vanilla-bean-rice-pudding-351549  \n",
              "459        watercress-orange-and-avocado-salad-233390  \n",
              "460         wilted-spinach-with-roasted-garlic-240366  \n",
              "\n",
              "[461 rows x 2 columns]"
            ],
            "text/html": [
              "\n",
              "  <div id=\"df-f03dbc0a-6704-4230-869d-55edbc7784e8\">\n",
              "    <div class=\"colab-df-container\">\n",
              "      <div>\n",
              "<style scoped>\n",
              "    .dataframe tbody tr th:only-of-type {\n",
              "        vertical-align: middle;\n",
              "    }\n",
              "\n",
              "    .dataframe tbody tr th {\n",
              "        vertical-align: top;\n",
              "    }\n",
              "\n",
              "    .dataframe thead th {\n",
              "        text-align: right;\n",
              "    }\n",
              "</style>\n",
              "<table border=\"1\" class=\"dataframe\">\n",
              "  <thead>\n",
              "    <tr style=\"text-align: right;\">\n",
              "      <th></th>\n",
              "      <th>Nom_entier</th>\n",
              "      <th>Nom_sans_format</th>\n",
              "    </tr>\n",
              "  </thead>\n",
              "  <tbody>\n",
              "    <tr>\n",
              "      <th>0</th>\n",
              "      <td>-em-ba-em-s-ultimate-lobster-rolls-51169080.jpg</td>\n",
              "      <td>-em-ba-em-s-ultimate-lobster-rolls-51169080</td>\n",
              "    </tr>\n",
              "    <tr>\n",
              "      <th>1</th>\n",
              "      <td>almond-cake-366229.jpg</td>\n",
              "      <td>almond-cake-366229</td>\n",
              "    </tr>\n",
              "    <tr>\n",
              "      <th>2</th>\n",
              "      <td>anchovy-and-rosemary-roasted-lamb-231791.jpg</td>\n",
              "      <td>anchovy-and-rosemary-roasted-lamb-231791</td>\n",
              "    </tr>\n",
              "    <tr>\n",
              "      <th>3</th>\n",
              "      <td>all-green-salad-with-citrus-vinaigrette-563893...</td>\n",
              "      <td>all-green-salad-with-citrus-vinaigrette-56389342</td>\n",
              "    </tr>\n",
              "    <tr>\n",
              "      <th>4</th>\n",
              "      <td>3-ingredient-pesto-fried-chicken.jpg</td>\n",
              "      <td>3-ingredient-pesto-fried-chicken</td>\n",
              "    </tr>\n",
              "    <tr>\n",
              "      <th>...</th>\n",
              "      <td>...</td>\n",
              "      <td>...</td>\n",
              "    </tr>\n",
              "    <tr>\n",
              "      <th>456</th>\n",
              "      <td>tomato-coconut-curry-with-cod.jpg</td>\n",
              "      <td>tomato-coconut-curry-with-cod</td>\n",
              "    </tr>\n",
              "    <tr>\n",
              "      <th>457</th>\n",
              "      <td>tonatto-eggs.jpg</td>\n",
              "      <td>tonatto-eggs</td>\n",
              "    </tr>\n",
              "    <tr>\n",
              "      <th>458</th>\n",
              "      <td>vanilla-bean-rice-pudding-351549.jpg</td>\n",
              "      <td>vanilla-bean-rice-pudding-351549</td>\n",
              "    </tr>\n",
              "    <tr>\n",
              "      <th>459</th>\n",
              "      <td>watercress-orange-and-avocado-salad-233390.jpg</td>\n",
              "      <td>watercress-orange-and-avocado-salad-233390</td>\n",
              "    </tr>\n",
              "    <tr>\n",
              "      <th>460</th>\n",
              "      <td>wilted-spinach-with-roasted-garlic-240366.jpg</td>\n",
              "      <td>wilted-spinach-with-roasted-garlic-240366</td>\n",
              "    </tr>\n",
              "  </tbody>\n",
              "</table>\n",
              "<p>461 rows × 2 columns</p>\n",
              "</div>\n",
              "      <button class=\"colab-df-convert\" onclick=\"convertToInteractive('df-f03dbc0a-6704-4230-869d-55edbc7784e8')\"\n",
              "              title=\"Convert this dataframe to an interactive table.\"\n",
              "              style=\"display:none;\">\n",
              "        \n",
              "  <svg xmlns=\"http://www.w3.org/2000/svg\" height=\"24px\"viewBox=\"0 0 24 24\"\n",
              "       width=\"24px\">\n",
              "    <path d=\"M0 0h24v24H0V0z\" fill=\"none\"/>\n",
              "    <path d=\"M18.56 5.44l.94 2.06.94-2.06 2.06-.94-2.06-.94-.94-2.06-.94 2.06-2.06.94zm-11 1L8.5 8.5l.94-2.06 2.06-.94-2.06-.94L8.5 2.5l-.94 2.06-2.06.94zm10 10l.94 2.06.94-2.06 2.06-.94-2.06-.94-.94-2.06-.94 2.06-2.06.94z\"/><path d=\"M17.41 7.96l-1.37-1.37c-.4-.4-.92-.59-1.43-.59-.52 0-1.04.2-1.43.59L10.3 9.45l-7.72 7.72c-.78.78-.78 2.05 0 2.83L4 21.41c.39.39.9.59 1.41.59.51 0 1.02-.2 1.41-.59l7.78-7.78 2.81-2.81c.8-.78.8-2.07 0-2.86zM5.41 20L4 18.59l7.72-7.72 1.47 1.35L5.41 20z\"/>\n",
              "  </svg>\n",
              "      </button>\n",
              "      \n",
              "  <style>\n",
              "    .colab-df-container {\n",
              "      display:flex;\n",
              "      flex-wrap:wrap;\n",
              "      gap: 12px;\n",
              "    }\n",
              "\n",
              "    .colab-df-convert {\n",
              "      background-color: #E8F0FE;\n",
              "      border: none;\n",
              "      border-radius: 50%;\n",
              "      cursor: pointer;\n",
              "      display: none;\n",
              "      fill: #1967D2;\n",
              "      height: 32px;\n",
              "      padding: 0 0 0 0;\n",
              "      width: 32px;\n",
              "    }\n",
              "\n",
              "    .colab-df-convert:hover {\n",
              "      background-color: #E2EBFA;\n",
              "      box-shadow: 0px 1px 2px rgba(60, 64, 67, 0.3), 0px 1px 3px 1px rgba(60, 64, 67, 0.15);\n",
              "      fill: #174EA6;\n",
              "    }\n",
              "\n",
              "    [theme=dark] .colab-df-convert {\n",
              "      background-color: #3B4455;\n",
              "      fill: #D2E3FC;\n",
              "    }\n",
              "\n",
              "    [theme=dark] .colab-df-convert:hover {\n",
              "      background-color: #434B5C;\n",
              "      box-shadow: 0px 1px 3px 1px rgba(0, 0, 0, 0.15);\n",
              "      filter: drop-shadow(0px 1px 2px rgba(0, 0, 0, 0.3));\n",
              "      fill: #FFFFFF;\n",
              "    }\n",
              "  </style>\n",
              "\n",
              "      <script>\n",
              "        const buttonEl =\n",
              "          document.querySelector('#df-f03dbc0a-6704-4230-869d-55edbc7784e8 button.colab-df-convert');\n",
              "        buttonEl.style.display =\n",
              "          google.colab.kernel.accessAllowed ? 'block' : 'none';\n",
              "\n",
              "        async function convertToInteractive(key) {\n",
              "          const element = document.querySelector('#df-f03dbc0a-6704-4230-869d-55edbc7784e8');\n",
              "          const dataTable =\n",
              "            await google.colab.kernel.invokeFunction('convertToInteractive',\n",
              "                                                     [key], {});\n",
              "          if (!dataTable) return;\n",
              "\n",
              "          const docLinkHtml = 'Like what you see? Visit the ' +\n",
              "            '<a target=\"_blank\" href=https://colab.research.google.com/notebooks/data_table.ipynb>data table notebook</a>'\n",
              "            + ' to learn more about interactive tables.';\n",
              "          element.innerHTML = '';\n",
              "          dataTable['output_type'] = 'display_data';\n",
              "          await google.colab.output.renderOutput(dataTable, element);\n",
              "          const docLink = document.createElement('div');\n",
              "          docLink.innerHTML = docLinkHtml;\n",
              "          element.appendChild(docLink);\n",
              "        }\n",
              "      </script>\n",
              "    </div>\n",
              "  </div>\n",
              "  "
            ]
          },
          "metadata": {},
          "execution_count": 12
        }
      ]
    },
    {
      "cell_type": "markdown",
      "source": [
        "Répertoire du CSV"
      ],
      "metadata": {
        "id": "vPvq4EF5khfT"
      }
    },
    {
      "cell_type": "code",
      "source": [
        "dir_csv = \"drive/MyDrive/Nao_School/week8/dataset/Data_Set_Projet_2/\""
      ],
      "metadata": {
        "id": "kXtuJhaMki-n"
      },
      "execution_count": 13,
      "outputs": []
    },
    {
      "cell_type": "markdown",
      "source": [
        "récupération du Food.csv"
      ],
      "metadata": {
        "id": "eetv6gO2lHuO"
      }
    },
    {
      "cell_type": "code",
      "source": [
        "df_csv = pd.read_csv(dir_csv + '/Food.csv', delimiter=\",\")"
      ],
      "metadata": {
        "id": "QCYPdlyulMBQ"
      },
      "execution_count": 14,
      "outputs": []
    },
    {
      "cell_type": "code",
      "source": [
        "df_csv"
      ],
      "metadata": {
        "colab": {
          "base_uri": "https://localhost:8080/",
          "height": 832
        },
        "id": "Axsn1eUtlSN0",
        "outputId": "2e41f9a6-3f1c-4843-d0f9-f9b3c9571dfe"
      },
      "execution_count": 43,
      "outputs": [
        {
          "output_type": "execute_result",
          "data": {
            "text/plain": [
              "       Unnamed: 0                                              Title  \\\n",
              "0               0  Miso-Butter Roast Chicken With Acorn Squash Pa...   \n",
              "1               1                    Crispy Salt and Pepper Potatoes   \n",
              "2               2                        Thanksgiving Mac and Cheese   \n",
              "3               3                 Italian Sausage and Bread Stuffing   \n",
              "4               4                                       Newton's Law   \n",
              "...           ...                                                ...   \n",
              "13496       13496                               Brownie Pudding Cake   \n",
              "13497       13497  Israeli Couscous with Roasted Butternut Squash...   \n",
              "13498       13498  Rice with Soy-Glazed Bonito Flakes and Sesame ...   \n",
              "13499       13499                                        Spanakopita   \n",
              "13500       13500  Mexican Poblano, Spinach, and Black Bean \"Lasa...   \n",
              "\n",
              "                                             Ingredients  \\\n",
              "0      ['1 (3½–4-lb.) whole chicken', '2¾ tsp. kosher...   \n",
              "1      ['2 large egg whites', '1 pound new potatoes (...   \n",
              "2      ['1 cup evaporated milk', '1 cup whole milk', ...   \n",
              "3      ['1 (¾- to 1-pound) round Italian loaf, cut in...   \n",
              "4      ['1 teaspoon dark brown sugar', '1 teaspoon ho...   \n",
              "...                                                  ...   \n",
              "13496  ['1 cup all-purpose flour', '2/3 cup unsweeten...   \n",
              "13497  ['1 preserved lemon', '1 1/2 pound butternut s...   \n",
              "13498  ['Leftover katsuo bushi (dried bonito flakes) ...   \n",
              "13499  ['1 stick (1/2 cup) plus 1 tablespoon unsalted...   \n",
              "13500  ['12 medium to large fresh poblano chiles (2 1...   \n",
              "\n",
              "                                            Instructions  \\\n",
              "0      Pat chicken dry with paper towels, season all ...   \n",
              "1      Preheat oven to 400°F and line a rimmed baking...   \n",
              "2      Place a rack in middle of oven; preheat to 400...   \n",
              "3      Preheat oven to 350°F with rack in middle. Gen...   \n",
              "4      Stir together brown sugar and hot water in a c...   \n",
              "...                                                  ...   \n",
              "13496  Preheat the oven to 350°F. Into a bowl sift to...   \n",
              "13497  Preheat oven to 475°F.\\nHalve lemons and scoop...   \n",
              "13498  If using katsuo bushi flakes from package, moi...   \n",
              "13499  Melt 1 tablespoon butter in a 12-inch heavy sk...   \n",
              "13500  Lay 4 chiles on their sides on racks of gas bu...   \n",
              "\n",
              "                                              Image_Name  \\\n",
              "0      miso-butter-roast-chicken-acorn-squash-panzanella   \n",
              "1             crispy-salt-and-pepper-potatoes-dan-kluger   \n",
              "2             thanksgiving-mac-and-cheese-erick-williams   \n",
              "3              italian-sausage-and-bread-stuffing-240559   \n",
              "4                     newtons-law-apple-bourbon-cocktail   \n",
              "...                                                  ...   \n",
              "13496                         brownie-pudding-cake-14408   \n",
              "13497  israeli-couscous-with-roasted-butternut-squash...   \n",
              "13498  rice-with-soy-glazed-bonito-flakes-and-sesame-...   \n",
              "13499                                 spanakopita-107344   \n",
              "13500  mexican-poblano-spinach-and-black-bean-lasagne...   \n",
              "\n",
              "                                     Cleaned_Ingredients  \n",
              "0      ['1 (3½–4-lb.) whole chicken', '2¾ tsp. kosher...  \n",
              "1      ['2 large egg whites', '1 pound new potatoes (...  \n",
              "2      ['1 cup evaporated milk', '1 cup whole milk', ...  \n",
              "3      ['1 (¾- to 1-pound) round Italian loaf, cut in...  \n",
              "4      ['1 teaspoon dark brown sugar', '1 teaspoon ho...  \n",
              "...                                                  ...  \n",
              "13496  ['1 cup all-purpose flour', '2/3 cup unsweeten...  \n",
              "13497  ['1 preserved lemon', '1 1/2 pound butternut s...  \n",
              "13498  ['Leftover katsuo bushi (dried bonito flakes) ...  \n",
              "13499  ['1 stick (1/2 cup) plus 1 tablespoon unsalted...  \n",
              "13500  ['12 medium to large fresh poblano chiles (2 1...  \n",
              "\n",
              "[13501 rows x 6 columns]"
            ],
            "text/html": [
              "\n",
              "  <div id=\"df-6ff67f32-a4f9-40eb-bb12-265dc15f2958\">\n",
              "    <div class=\"colab-df-container\">\n",
              "      <div>\n",
              "<style scoped>\n",
              "    .dataframe tbody tr th:only-of-type {\n",
              "        vertical-align: middle;\n",
              "    }\n",
              "\n",
              "    .dataframe tbody tr th {\n",
              "        vertical-align: top;\n",
              "    }\n",
              "\n",
              "    .dataframe thead th {\n",
              "        text-align: right;\n",
              "    }\n",
              "</style>\n",
              "<table border=\"1\" class=\"dataframe\">\n",
              "  <thead>\n",
              "    <tr style=\"text-align: right;\">\n",
              "      <th></th>\n",
              "      <th>Unnamed: 0</th>\n",
              "      <th>Title</th>\n",
              "      <th>Ingredients</th>\n",
              "      <th>Instructions</th>\n",
              "      <th>Image_Name</th>\n",
              "      <th>Cleaned_Ingredients</th>\n",
              "    </tr>\n",
              "  </thead>\n",
              "  <tbody>\n",
              "    <tr>\n",
              "      <th>0</th>\n",
              "      <td>0</td>\n",
              "      <td>Miso-Butter Roast Chicken With Acorn Squash Pa...</td>\n",
              "      <td>['1 (3½–4-lb.) whole chicken', '2¾ tsp. kosher...</td>\n",
              "      <td>Pat chicken dry with paper towels, season all ...</td>\n",
              "      <td>miso-butter-roast-chicken-acorn-squash-panzanella</td>\n",
              "      <td>['1 (3½–4-lb.) whole chicken', '2¾ tsp. kosher...</td>\n",
              "    </tr>\n",
              "    <tr>\n",
              "      <th>1</th>\n",
              "      <td>1</td>\n",
              "      <td>Crispy Salt and Pepper Potatoes</td>\n",
              "      <td>['2 large egg whites', '1 pound new potatoes (...</td>\n",
              "      <td>Preheat oven to 400°F and line a rimmed baking...</td>\n",
              "      <td>crispy-salt-and-pepper-potatoes-dan-kluger</td>\n",
              "      <td>['2 large egg whites', '1 pound new potatoes (...</td>\n",
              "    </tr>\n",
              "    <tr>\n",
              "      <th>2</th>\n",
              "      <td>2</td>\n",
              "      <td>Thanksgiving Mac and Cheese</td>\n",
              "      <td>['1 cup evaporated milk', '1 cup whole milk', ...</td>\n",
              "      <td>Place a rack in middle of oven; preheat to 400...</td>\n",
              "      <td>thanksgiving-mac-and-cheese-erick-williams</td>\n",
              "      <td>['1 cup evaporated milk', '1 cup whole milk', ...</td>\n",
              "    </tr>\n",
              "    <tr>\n",
              "      <th>3</th>\n",
              "      <td>3</td>\n",
              "      <td>Italian Sausage and Bread Stuffing</td>\n",
              "      <td>['1 (¾- to 1-pound) round Italian loaf, cut in...</td>\n",
              "      <td>Preheat oven to 350°F with rack in middle. Gen...</td>\n",
              "      <td>italian-sausage-and-bread-stuffing-240559</td>\n",
              "      <td>['1 (¾- to 1-pound) round Italian loaf, cut in...</td>\n",
              "    </tr>\n",
              "    <tr>\n",
              "      <th>4</th>\n",
              "      <td>4</td>\n",
              "      <td>Newton's Law</td>\n",
              "      <td>['1 teaspoon dark brown sugar', '1 teaspoon ho...</td>\n",
              "      <td>Stir together brown sugar and hot water in a c...</td>\n",
              "      <td>newtons-law-apple-bourbon-cocktail</td>\n",
              "      <td>['1 teaspoon dark brown sugar', '1 teaspoon ho...</td>\n",
              "    </tr>\n",
              "    <tr>\n",
              "      <th>...</th>\n",
              "      <td>...</td>\n",
              "      <td>...</td>\n",
              "      <td>...</td>\n",
              "      <td>...</td>\n",
              "      <td>...</td>\n",
              "      <td>...</td>\n",
              "    </tr>\n",
              "    <tr>\n",
              "      <th>13496</th>\n",
              "      <td>13496</td>\n",
              "      <td>Brownie Pudding Cake</td>\n",
              "      <td>['1 cup all-purpose flour', '2/3 cup unsweeten...</td>\n",
              "      <td>Preheat the oven to 350°F. Into a bowl sift to...</td>\n",
              "      <td>brownie-pudding-cake-14408</td>\n",
              "      <td>['1 cup all-purpose flour', '2/3 cup unsweeten...</td>\n",
              "    </tr>\n",
              "    <tr>\n",
              "      <th>13497</th>\n",
              "      <td>13497</td>\n",
              "      <td>Israeli Couscous with Roasted Butternut Squash...</td>\n",
              "      <td>['1 preserved lemon', '1 1/2 pound butternut s...</td>\n",
              "      <td>Preheat oven to 475°F.\\nHalve lemons and scoop...</td>\n",
              "      <td>israeli-couscous-with-roasted-butternut-squash...</td>\n",
              "      <td>['1 preserved lemon', '1 1/2 pound butternut s...</td>\n",
              "    </tr>\n",
              "    <tr>\n",
              "      <th>13498</th>\n",
              "      <td>13498</td>\n",
              "      <td>Rice with Soy-Glazed Bonito Flakes and Sesame ...</td>\n",
              "      <td>['Leftover katsuo bushi (dried bonito flakes) ...</td>\n",
              "      <td>If using katsuo bushi flakes from package, moi...</td>\n",
              "      <td>rice-with-soy-glazed-bonito-flakes-and-sesame-...</td>\n",
              "      <td>['Leftover katsuo bushi (dried bonito flakes) ...</td>\n",
              "    </tr>\n",
              "    <tr>\n",
              "      <th>13499</th>\n",
              "      <td>13499</td>\n",
              "      <td>Spanakopita</td>\n",
              "      <td>['1 stick (1/2 cup) plus 1 tablespoon unsalted...</td>\n",
              "      <td>Melt 1 tablespoon butter in a 12-inch heavy sk...</td>\n",
              "      <td>spanakopita-107344</td>\n",
              "      <td>['1 stick (1/2 cup) plus 1 tablespoon unsalted...</td>\n",
              "    </tr>\n",
              "    <tr>\n",
              "      <th>13500</th>\n",
              "      <td>13500</td>\n",
              "      <td>Mexican Poblano, Spinach, and Black Bean \"Lasa...</td>\n",
              "      <td>['12 medium to large fresh poblano chiles (2 1...</td>\n",
              "      <td>Lay 4 chiles on their sides on racks of gas bu...</td>\n",
              "      <td>mexican-poblano-spinach-and-black-bean-lasagne...</td>\n",
              "      <td>['12 medium to large fresh poblano chiles (2 1...</td>\n",
              "    </tr>\n",
              "  </tbody>\n",
              "</table>\n",
              "<p>13501 rows × 6 columns</p>\n",
              "</div>\n",
              "      <button class=\"colab-df-convert\" onclick=\"convertToInteractive('df-6ff67f32-a4f9-40eb-bb12-265dc15f2958')\"\n",
              "              title=\"Convert this dataframe to an interactive table.\"\n",
              "              style=\"display:none;\">\n",
              "        \n",
              "  <svg xmlns=\"http://www.w3.org/2000/svg\" height=\"24px\"viewBox=\"0 0 24 24\"\n",
              "       width=\"24px\">\n",
              "    <path d=\"M0 0h24v24H0V0z\" fill=\"none\"/>\n",
              "    <path d=\"M18.56 5.44l.94 2.06.94-2.06 2.06-.94-2.06-.94-.94-2.06-.94 2.06-2.06.94zm-11 1L8.5 8.5l.94-2.06 2.06-.94-2.06-.94L8.5 2.5l-.94 2.06-2.06.94zm10 10l.94 2.06.94-2.06 2.06-.94-2.06-.94-.94-2.06-.94 2.06-2.06.94z\"/><path d=\"M17.41 7.96l-1.37-1.37c-.4-.4-.92-.59-1.43-.59-.52 0-1.04.2-1.43.59L10.3 9.45l-7.72 7.72c-.78.78-.78 2.05 0 2.83L4 21.41c.39.39.9.59 1.41.59.51 0 1.02-.2 1.41-.59l7.78-7.78 2.81-2.81c.8-.78.8-2.07 0-2.86zM5.41 20L4 18.59l7.72-7.72 1.47 1.35L5.41 20z\"/>\n",
              "  </svg>\n",
              "      </button>\n",
              "      \n",
              "  <style>\n",
              "    .colab-df-container {\n",
              "      display:flex;\n",
              "      flex-wrap:wrap;\n",
              "      gap: 12px;\n",
              "    }\n",
              "\n",
              "    .colab-df-convert {\n",
              "      background-color: #E8F0FE;\n",
              "      border: none;\n",
              "      border-radius: 50%;\n",
              "      cursor: pointer;\n",
              "      display: none;\n",
              "      fill: #1967D2;\n",
              "      height: 32px;\n",
              "      padding: 0 0 0 0;\n",
              "      width: 32px;\n",
              "    }\n",
              "\n",
              "    .colab-df-convert:hover {\n",
              "      background-color: #E2EBFA;\n",
              "      box-shadow: 0px 1px 2px rgba(60, 64, 67, 0.3), 0px 1px 3px 1px rgba(60, 64, 67, 0.15);\n",
              "      fill: #174EA6;\n",
              "    }\n",
              "\n",
              "    [theme=dark] .colab-df-convert {\n",
              "      background-color: #3B4455;\n",
              "      fill: #D2E3FC;\n",
              "    }\n",
              "\n",
              "    [theme=dark] .colab-df-convert:hover {\n",
              "      background-color: #434B5C;\n",
              "      box-shadow: 0px 1px 3px 1px rgba(0, 0, 0, 0.15);\n",
              "      filter: drop-shadow(0px 1px 2px rgba(0, 0, 0, 0.3));\n",
              "      fill: #FFFFFF;\n",
              "    }\n",
              "  </style>\n",
              "\n",
              "      <script>\n",
              "        const buttonEl =\n",
              "          document.querySelector('#df-6ff67f32-a4f9-40eb-bb12-265dc15f2958 button.colab-df-convert');\n",
              "        buttonEl.style.display =\n",
              "          google.colab.kernel.accessAllowed ? 'block' : 'none';\n",
              "\n",
              "        async function convertToInteractive(key) {\n",
              "          const element = document.querySelector('#df-6ff67f32-a4f9-40eb-bb12-265dc15f2958');\n",
              "          const dataTable =\n",
              "            await google.colab.kernel.invokeFunction('convertToInteractive',\n",
              "                                                     [key], {});\n",
              "          if (!dataTable) return;\n",
              "\n",
              "          const docLinkHtml = 'Like what you see? Visit the ' +\n",
              "            '<a target=\"_blank\" href=https://colab.research.google.com/notebooks/data_table.ipynb>data table notebook</a>'\n",
              "            + ' to learn more about interactive tables.';\n",
              "          element.innerHTML = '';\n",
              "          dataTable['output_type'] = 'display_data';\n",
              "          await google.colab.output.renderOutput(dataTable, element);\n",
              "          const docLink = document.createElement('div');\n",
              "          docLink.innerHTML = docLinkHtml;\n",
              "          element.appendChild(docLink);\n",
              "        }\n",
              "      </script>\n",
              "    </div>\n",
              "  </div>\n",
              "  "
            ]
          },
          "metadata": {},
          "execution_count": 43
        }
      ]
    },
    {
      "cell_type": "markdown",
      "source": [
        "Création d'une colonne de présence des photos dans le CSV, on devrait obtenir 13501 images à True"
      ],
      "metadata": {
        "id": "T-CR0FitneN0"
      }
    },
    {
      "cell_type": "code",
      "source": [
        "df[\"PrésentdansCSV\"] = df[\"Nom_sans_format\"].isin(df_csv[\"Image_Name\"])\n"
      ],
      "metadata": {
        "id": "wI0gUpUBlnfU"
      },
      "execution_count": 15,
      "outputs": []
    },
    {
      "cell_type": "markdown",
      "source": [
        "Compter le nbre de True"
      ],
      "metadata": {
        "id": "NnkR35TQo0Cs"
      }
    },
    {
      "cell_type": "code",
      "source": [
        "len(df[df[\"PrésentdansCSV\"]==True])"
      ],
      "metadata": {
        "colab": {
          "base_uri": "https://localhost:8080/"
        },
        "id": "9fY1vugsldXg",
        "outputId": "933bd863-17af-4f9f-df52-6e165c36ca38"
      },
      "execution_count": 16,
      "outputs": [
        {
          "output_type": "execute_result",
          "data": {
            "text/plain": [
              "454"
            ]
          },
          "metadata": {},
          "execution_count": 16
        }
      ]
    },
    {
      "cell_type": "code",
      "source": [
        "len(df[df[\"PrésentdansCSV\"]==False])"
      ],
      "metadata": {
        "colab": {
          "base_uri": "https://localhost:8080/"
        },
        "id": "nVBbETkMpM8l",
        "outputId": "89812ce3-8276-4911-ab0f-82179f044b92"
      },
      "execution_count": 17,
      "outputs": [
        {
          "output_type": "execute_result",
          "data": {
            "text/plain": [
              "7"
            ]
          },
          "metadata": {},
          "execution_count": 17
        }
      ]
    },
    {
      "cell_type": "markdown",
      "source": [
        "Créer un repertoire avec uniquement les photos présentes à True"
      ],
      "metadata": {
        "id": "XnqVqwMap6lI"
      }
    },
    {
      "cell_type": "code",
      "source": [
        "# Filtrer les photos disponibles\n",
        "photos = df[df[\"PrésentdansCSV\"] == True][\"Nom_entier\"]\n",
        "\n",
        "# Créer le répertoire pour stocker les photos\n",
        "# os.system(\"mkdir drive/MyDrive/Nao_School/week8/dataset/Data_Set_Projet_2/photos\")\n",
        "new_path =\"drive/MyDrive/Nao_School/week8/dataset/Data_Set_Projet_2/photos/\"\n",
        "# Copier les photos filtrées dans le répertoire\n",
        "for photo in photos:\n",
        "     !cp \"drive/MyDrive/Nao_School/week8/dataset/Data_Set_Projet_2/Food Images/Food Images/$photo\" \"$new_path\"\n"
      ],
      "metadata": {
        "id": "ctfHDZ3KEUci"
      },
      "execution_count": 86,
      "outputs": []
    },
    {
      "cell_type": "markdown",
      "source": [
        "Vérification du CSV avec le répertoire, les Image_Name peuvent ne pas avoir de photos (contrôle caduque si on a le même nombre total de photos et recettes)"
      ],
      "metadata": {
        "id": "z0JrKKeQqGFp"
      }
    },
    {
      "cell_type": "code",
      "source": [
        "df_csv[\"Présentdansrepphotos\"] = df_csv[\"Image_Name\"].isin(df[\"Nom_sans_format\"])"
      ],
      "metadata": {
        "id": "5SeZkdpbqUKb"
      },
      "execution_count": 18,
      "outputs": []
    },
    {
      "cell_type": "markdown",
      "source": [
        "Compter le nbre de True => Image_Name dans le répertoire ?"
      ],
      "metadata": {
        "id": "3sv5WE6mDLCR"
      }
    },
    {
      "cell_type": "code",
      "source": [
        "len(df_csv[df_csv[\"Présentdansrepphotos\"]==True])"
      ],
      "metadata": {
        "colab": {
          "base_uri": "https://localhost:8080/"
        },
        "id": "6l3xXuyLDSY4",
        "outputId": "5495d19c-5f8f-4a5a-b566-29f9ad028ecd"
      },
      "execution_count": 19,
      "outputs": [
        {
          "output_type": "execute_result",
          "data": {
            "text/plain": [
              "454"
            ]
          },
          "metadata": {},
          "execution_count": 19
        }
      ]
    },
    {
      "cell_type": "code",
      "source": [
        "len(df_csv[df_csv[\"Présentdansrepphotos\"]==False])"
      ],
      "metadata": {
        "colab": {
          "base_uri": "https://localhost:8080/"
        },
        "id": "ZrAovjUyDcm0",
        "outputId": "8448ae5f-ed42-4d23-92b7-bbcfab09b1ab"
      },
      "execution_count": 20,
      "outputs": [
        {
          "output_type": "execute_result",
          "data": {
            "text/plain": [
              "13047"
            ]
          },
          "metadata": {},
          "execution_count": 20
        }
      ]
    },
    {
      "cell_type": "markdown",
      "source": [
        "Vérification du nbre de photos dans le nouveau répertoire créé photos"
      ],
      "metadata": {
        "id": "G9ztioF1gbxZ"
      }
    },
    {
      "cell_type": "code",
      "source": [
        "!ls 'drive/MyDrive/Nao_School/week8/dataset/Data_Set_Projet_2/photos/' -1 | wc -l"
      ],
      "metadata": {
        "colab": {
          "base_uri": "https://localhost:8080/"
        },
        "id": "AqNsLzCZgeox",
        "outputId": "51792aec-c346-4d66-9718-7acf3343e1bc"
      },
      "execution_count": 87,
      "outputs": [
        {
          "output_type": "stream",
          "name": "stdout",
          "text": [
            "454\n"
          ]
        }
      ]
    },
    {
      "cell_type": "markdown",
      "source": [
        "Dernier contrôle des photos dans le nouveau répertoire avec le fichier CSV"
      ],
      "metadata": {
        "id": "QGSMuA8ohurG"
      }
    },
    {
      "cell_type": "code",
      "source": [
        "new_list_photos =[]\n",
        "for file in os.listdir(f\"{new_path}\"):\n",
        "  new_list_photos.append(file)"
      ],
      "metadata": {
        "id": "0btGdLtijoUa"
      },
      "execution_count": 91,
      "outputs": []
    },
    {
      "cell_type": "code",
      "source": [
        "df_contr =  pd.DataFrame(columns=['Nom_entier','Nom_sans_format'])"
      ],
      "metadata": {
        "id": "P6KIjhd4j9bx"
      },
      "execution_count": 92,
      "outputs": []
    },
    {
      "cell_type": "code",
      "source": [
        "df_contr['Nom_entier'] = new_list_photos "
      ],
      "metadata": {
        "id": "K4vvZfO4kG1N"
      },
      "execution_count": 94,
      "outputs": []
    },
    {
      "cell_type": "code",
      "source": [
        "df_contr['Nom_sans_format'] = df_contr['Nom_entier'].str.slice(0,-4)"
      ],
      "metadata": {
        "id": "rtPOvDYqkPVN"
      },
      "execution_count": 95,
      "outputs": []
    },
    {
      "cell_type": "code",
      "source": [
        "df_contr[\"PrésentdansCSV\"] = df_contr[\"Nom_sans_format\"].isin(df_csv[\"Image_Name\"])"
      ],
      "metadata": {
        "id": "8aK5YMJkkWMR"
      },
      "execution_count": 96,
      "outputs": []
    },
    {
      "cell_type": "markdown",
      "source": [
        "verification si aucun False"
      ],
      "metadata": {
        "id": "m8kp6mvwkaX1"
      }
    },
    {
      "cell_type": "code",
      "source": [
        "len(df_contr[df_contr[\"PrésentdansCSV\"]==False])"
      ],
      "metadata": {
        "colab": {
          "base_uri": "https://localhost:8080/"
        },
        "id": "lOBWPPrZkZ96",
        "outputId": "b5d05f4a-8927-47cf-fff5-9661240e211f"
      },
      "execution_count": 97,
      "outputs": [
        {
          "output_type": "execute_result",
          "data": {
            "text/plain": [
              "0"
            ]
          },
          "metadata": {},
          "execution_count": 97
        }
      ]
    }
  ]
}